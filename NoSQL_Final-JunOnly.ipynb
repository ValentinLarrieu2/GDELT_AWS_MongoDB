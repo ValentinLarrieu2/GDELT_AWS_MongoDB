{
 "cells": [
  {
   "cell_type": "markdown",
   "metadata": {},
   "source": [
    "<center><img src='https://blog.gdeltproject.org/wp-content/uploads/2015-gdelt-2.png' width=400></center>"
   ]
  },
  {
   "cell_type": "markdown",
   "metadata": {},
   "source": [
    "<strong>\n",
    "Valentin LARRIEU <br>\n",
    "Arnaud LEJEUNE <br>\n",
    "Thomas MEIMOUN <br>\n",
    "Thibault ROYER <br>\n",
    "David TANG <br>\n",
    "</strong>"
   ]
  },
  {
   "cell_type": "code",
   "execution_count": 1,
   "metadata": {
    "ExecuteTime": {
     "end_time": "2019-01-24T07:31:00.499837Z",
     "start_time": "2019-01-24T07:30:59.905633Z"
    }
   },
   "outputs": [],
   "source": [
    "import pandas as pd\n",
    "import json\n",
    "import numpy as np\n",
    "import matplotlib.pyplot as plt\n",
    "from pymongo import MongoClient\n",
    "from bson.son import SON\n",
    "from pymongo import MongoClient\n",
    "import time\n",
    "import conda\n",
    "import os\n",
    "import seaborn as sns\n",
    "sns.set(style='whitegrid')\n",
    "\n",
    "#BaseMap\n",
    "conda_file_dir = conda.__file__\n",
    "conda_dir = conda_file_dir.split('lib')[0]\n",
    "proj_lib = os.path.join(os.path.join(conda_dir, 'share'), 'proj')\n",
    "os.environ[\"PROJ_LIB\"] = proj_lib\n",
    "from mpl_toolkits.basemap import Basemap"
   ]
  },
  {
   "cell_type": "code",
   "execution_count": 2,
   "metadata": {
    "ExecuteTime": {
     "end_time": "2019-01-24T07:31:00.512815Z",
     "start_time": "2019-01-24T07:31:00.510101Z"
    }
   },
   "outputs": [],
   "source": [
    "start = time. time()"
   ]
  },
  {
   "cell_type": "code",
   "execution_count": 3,
   "metadata": {
    "ExecuteTime": {
     "end_time": "2019-01-24T07:31:00.599209Z",
     "start_time": "2019-01-24T07:31:00.595246Z"
    }
   },
   "outputs": [],
   "source": [
    "client = MongoClient('mongodb://localhost:8157/')"
   ]
  },
  {
   "cell_type": "code",
   "execution_count": 4,
   "metadata": {
    "ExecuteTime": {
     "end_time": "2019-01-24T07:31:01.117939Z",
     "start_time": "2019-01-24T07:31:01.115518Z"
    },
    "scrolled": true
   },
   "outputs": [],
   "source": [
    "db = client['gdelt']\n",
    "collection = db.actor_jun"
   ]
  },
  {
   "cell_type": "markdown",
   "metadata": {},
   "source": [
    "<Strong>Fonction de Rename </strong>"
   ]
  },
  {
   "cell_type": "code",
   "execution_count": 5,
   "metadata": {
    "ExecuteTime": {
     "end_time": "2019-01-24T07:31:02.687287Z",
     "start_time": "2019-01-24T07:31:02.684806Z"
    }
   },
   "outputs": [],
   "source": [
    "path_country_code = \"corresp_pays.csv\""
   ]
  },
  {
   "cell_type": "code",
   "execution_count": 6,
   "metadata": {
    "ExecuteTime": {
     "end_time": "2019-01-24T07:31:02.944045Z",
     "start_time": "2019-01-24T07:31:02.928721Z"
    }
   },
   "outputs": [],
   "source": [
    "df_country_code = pd.read_csv(path_country_code, low_memory=False, sep=\",\", dtype='object')"
   ]
  },
  {
   "cell_type": "code",
   "execution_count": 7,
   "metadata": {
    "ExecuteTime": {
     "end_time": "2019-01-24T07:31:03.137736Z",
     "start_time": "2019-01-24T07:31:03.134212Z"
    }
   },
   "outputs": [],
   "source": [
    "df_country_code = df_country_code.rename(columns={\"code\": 'Actor'}) # we rename the column for the join"
   ]
  },
  {
   "cell_type": "code",
   "execution_count": 8,
   "metadata": {
    "ExecuteTime": {
     "end_time": "2019-01-24T07:31:04.436224Z",
     "start_time": "2019-01-24T07:31:04.430603Z"
    }
   },
   "outputs": [],
   "source": [
    "def replace_by_correspondence(df, df_corresp, column_shared, index_column_replacer = 1, replace_nan = True):\n",
    "    column_replacer = df_corresp.columns[index_column_replacer]\n",
    "    dictionary = df_corresp.set_index(column_shared).to_dict()[column_replacer]\n",
    "    df[column_shared + '_corresp'] = df[column_shared].map(dictionary)\n",
    "    # We replace nan values by nothing\n",
    "    if (replace_nan):\n",
    "        df[column_shared + '_corresp'] = df[column_shared + '_corresp'].fillna(\"\")\n",
    "    return df"
   ]
  },
  {
   "cell_type": "code",
   "execution_count": 9,
   "metadata": {
    "ExecuteTime": {
     "end_time": "2019-01-24T07:31:04.704511Z",
     "start_time": "2019-01-24T07:31:04.694387Z"
    }
   },
   "outputs": [
    {
     "data": {
      "text/html": [
       "<div>\n",
       "<style scoped>\n",
       "    .dataframe tbody tr th:only-of-type {\n",
       "        vertical-align: middle;\n",
       "    }\n",
       "\n",
       "    .dataframe tbody tr th {\n",
       "        vertical-align: top;\n",
       "    }\n",
       "\n",
       "    .dataframe thead th {\n",
       "        text-align: right;\n",
       "    }\n",
       "</style>\n",
       "<table border=\"1\" class=\"dataframe\">\n",
       "  <thead>\n",
       "    <tr style=\"text-align: right;\">\n",
       "      <th></th>\n",
       "      <th>Actor</th>\n",
       "      <th>countryName</th>\n",
       "    </tr>\n",
       "  </thead>\n",
       "  <tbody>\n",
       "    <tr>\n",
       "      <th>0</th>\n",
       "      <td>AF</td>\n",
       "      <td>Afghanistan</td>\n",
       "    </tr>\n",
       "    <tr>\n",
       "      <th>1</th>\n",
       "      <td>AX</td>\n",
       "      <td>Aland Islands</td>\n",
       "    </tr>\n",
       "    <tr>\n",
       "      <th>2</th>\n",
       "      <td>AL</td>\n",
       "      <td>Albania</td>\n",
       "    </tr>\n",
       "    <tr>\n",
       "      <th>3</th>\n",
       "      <td>AG</td>\n",
       "      <td>Algeria</td>\n",
       "    </tr>\n",
       "    <tr>\n",
       "      <th>4</th>\n",
       "      <td>AQ</td>\n",
       "      <td>American Samoa</td>\n",
       "    </tr>\n",
       "  </tbody>\n",
       "</table>\n",
       "</div>"
      ],
      "text/plain": [
       "  Actor     countryName\n",
       "0    AF     Afghanistan\n",
       "1    AX   Aland Islands\n",
       "2    AL         Albania\n",
       "3    AG         Algeria\n",
       "4    AQ  American Samoa"
      ]
     },
     "execution_count": 9,
     "metadata": {},
     "output_type": "execute_result"
    }
   ],
   "source": [
    "df_country_code.head()"
   ]
  },
  {
   "cell_type": "markdown",
   "metadata": {},
   "source": [
    "# Part 1"
   ]
  },
  {
   "cell_type": "markdown",
   "metadata": {},
   "source": [
    "display the number of articles/events there were for each triplet (day, country of the event, language of the article)."
   ]
  },
  {
   "cell_type": "code",
   "execution_count": 10,
   "metadata": {
    "ExecuteTime": {
     "end_time": "2019-01-24T07:31:09.139077Z",
     "start_time": "2019-01-24T07:31:09.124177Z"
    }
   },
   "outputs": [],
   "source": [
    "def Function1(correspondance=1):\n",
    "    \n",
    "    pipeline = [\n",
    "    {\"$group\": {\"_id\":{\"jour\":\"$SQLDATE\", \"actor\":\"$ActionGeo_CountryCode\",\n",
    "                       \"langue\":\"$MentionDocTranslationInfo\"}, \"count\": {\"$sum\":1}}}    \n",
    "    ]\n",
    "    \n",
    "    result_query = pd.DataFrame(list(collection.aggregate(pipeline, allowDiskUse = True)))\n",
    "    DF = pd.DataFrame()\n",
    "\n",
    "    DF['Jour'] = pd.to_datetime(result_query.apply(lambda row : row[\"_id\"][\"jour\"] , axis = 1), format='%Y%m%d')\n",
    "    DF['Actor'] = result_query.apply(lambda row : row[\"_id\"][\"actor\"] , axis = 1)\n",
    "    DF['Langue'] = result_query.apply(lambda row : row[\"_id\"][\"langue\"] , axis = 1)\n",
    "    DF['Count'] = result_query['count']\n",
    "    \n",
    "    if correspondance == 1:\n",
    "        DF=replace_by_correspondence(DF, df_country_code, 'Actor')\n",
    "    \n",
    "    return DF\n",
    "\n",
    "def Triplet_Q1(Date, Actor, Langue, DF):\n",
    "\n",
    "    return DF.loc[(DF[\"Actor\"]==Actor) & (DF['Langue'] == Langue) & (DF['Jour'] == Date)].style.hide_index()\n",
    "\n",
    "def Function1_count(jourTest, paysTest, langueTest):\n",
    "    \"\"\"sort uniquement le count pour un triplet\"\"\"\n",
    "    \n",
    "    pipeline = [\n",
    "   {\"$match\": {\"$and\":[ {\"SQLDATE\": jourTest}, {\"ActionGeo_CountryCode\": paysTest},\n",
    "                       {\"MentionDocTranslationInfo\": langueTest} ]}},\n",
    "   {\"$group\": { \"_id\":{\"jour\":\"$SQLDATE\", \"pays\":\"$ActionGeo_CountryCode\",\n",
    "                       \"langue\":\"$MentionDocTranslationInfo\"}, \"count\": {\"$sum\":1}}} \n",
    "    ]\n",
    "    \n",
    "    DF = pd.DataFrame(list(collection.aggregate(pipeline))).style.hide_index()\n",
    "    \n",
    "    return DF"
   ]
  },
  {
   "cell_type": "code",
   "execution_count": 11,
   "metadata": {
    "ExecuteTime": {
     "end_time": "2019-01-24T07:31:54.112926Z",
     "start_time": "2019-01-24T07:31:11.528897Z"
    }
   },
   "outputs": [
    {
     "data": {
      "text/html": [
       "<style  type=\"text/css\" >\n",
       "</style>  \n",
       "<table id=\"T_1f45ce04_1faa_11e9_a3dd_e9400dbac465\" > \n",
       "<thead>    <tr> \n",
       "        <th class=\"col_heading level0 col0\" >Jour</th> \n",
       "        <th class=\"col_heading level0 col1\" >Actor</th> \n",
       "        <th class=\"col_heading level0 col2\" >Langue</th> \n",
       "        <th class=\"col_heading level0 col3\" >Count</th> \n",
       "        <th class=\"col_heading level0 col4\" >Actor_corresp</th> \n",
       "    </tr></thead> \n",
       "<tbody>    <tr> \n",
       "        <td id=\"T_1f45ce04_1faa_11e9_a3dd_e9400dbac465row0_col0\" class=\"data row0 col0\" >2018-06-20 00:00:00</td> \n",
       "        <td id=\"T_1f45ce04_1faa_11e9_a3dd_e9400dbac465row0_col1\" class=\"data row0 col1\" >US</td> \n",
       "        <td id=\"T_1f45ce04_1faa_11e9_a3dd_e9400dbac465row0_col2\" class=\"data row0 col2\" >ENG</td> \n",
       "        <td id=\"T_1f45ce04_1faa_11e9_a3dd_e9400dbac465row0_col3\" class=\"data row0 col3\" >186278</td> \n",
       "        <td id=\"T_1f45ce04_1faa_11e9_a3dd_e9400dbac465row0_col4\" class=\"data row0 col4\" >United States</td> \n",
       "    </tr>    <tr> \n",
       "        <td id=\"T_1f45ce04_1faa_11e9_a3dd_e9400dbac465row1_col0\" class=\"data row1 col0\" >2018-06-28 00:00:00</td> \n",
       "        <td id=\"T_1f45ce04_1faa_11e9_a3dd_e9400dbac465row1_col1\" class=\"data row1 col1\" >US</td> \n",
       "        <td id=\"T_1f45ce04_1faa_11e9_a3dd_e9400dbac465row1_col2\" class=\"data row1 col2\" >ENG</td> \n",
       "        <td id=\"T_1f45ce04_1faa_11e9_a3dd_e9400dbac465row1_col3\" class=\"data row1 col3\" >185906</td> \n",
       "        <td id=\"T_1f45ce04_1faa_11e9_a3dd_e9400dbac465row1_col4\" class=\"data row1 col4\" >United States</td> \n",
       "    </tr>    <tr> \n",
       "        <td id=\"T_1f45ce04_1faa_11e9_a3dd_e9400dbac465row2_col0\" class=\"data row2 col0\" >2018-06-27 00:00:00</td> \n",
       "        <td id=\"T_1f45ce04_1faa_11e9_a3dd_e9400dbac465row2_col1\" class=\"data row2 col1\" >US</td> \n",
       "        <td id=\"T_1f45ce04_1faa_11e9_a3dd_e9400dbac465row2_col2\" class=\"data row2 col2\" >ENG</td> \n",
       "        <td id=\"T_1f45ce04_1faa_11e9_a3dd_e9400dbac465row2_col3\" class=\"data row2 col3\" >185242</td> \n",
       "        <td id=\"T_1f45ce04_1faa_11e9_a3dd_e9400dbac465row2_col4\" class=\"data row2 col4\" >United States</td> \n",
       "    </tr>    <tr> \n",
       "        <td id=\"T_1f45ce04_1faa_11e9_a3dd_e9400dbac465row3_col0\" class=\"data row3 col0\" >2018-06-21 00:00:00</td> \n",
       "        <td id=\"T_1f45ce04_1faa_11e9_a3dd_e9400dbac465row3_col1\" class=\"data row3 col1\" >US</td> \n",
       "        <td id=\"T_1f45ce04_1faa_11e9_a3dd_e9400dbac465row3_col2\" class=\"data row3 col2\" >ENG</td> \n",
       "        <td id=\"T_1f45ce04_1faa_11e9_a3dd_e9400dbac465row3_col3\" class=\"data row3 col3\" >182456</td> \n",
       "        <td id=\"T_1f45ce04_1faa_11e9_a3dd_e9400dbac465row3_col4\" class=\"data row3 col4\" >United States</td> \n",
       "    </tr>    <tr> \n",
       "        <td id=\"T_1f45ce04_1faa_11e9_a3dd_e9400dbac465row4_col0\" class=\"data row4 col0\" >2018-06-06 00:00:00</td> \n",
       "        <td id=\"T_1f45ce04_1faa_11e9_a3dd_e9400dbac465row4_col1\" class=\"data row4 col1\" >US</td> \n",
       "        <td id=\"T_1f45ce04_1faa_11e9_a3dd_e9400dbac465row4_col2\" class=\"data row4 col2\" >ENG</td> \n",
       "        <td id=\"T_1f45ce04_1faa_11e9_a3dd_e9400dbac465row4_col3\" class=\"data row4 col3\" >180120</td> \n",
       "        <td id=\"T_1f45ce04_1faa_11e9_a3dd_e9400dbac465row4_col4\" class=\"data row4 col4\" >United States</td> \n",
       "    </tr>    <tr> \n",
       "        <td id=\"T_1f45ce04_1faa_11e9_a3dd_e9400dbac465row5_col0\" class=\"data row5 col0\" >2018-06-29 00:00:00</td> \n",
       "        <td id=\"T_1f45ce04_1faa_11e9_a3dd_e9400dbac465row5_col1\" class=\"data row5 col1\" >US</td> \n",
       "        <td id=\"T_1f45ce04_1faa_11e9_a3dd_e9400dbac465row5_col2\" class=\"data row5 col2\" >ENG</td> \n",
       "        <td id=\"T_1f45ce04_1faa_11e9_a3dd_e9400dbac465row5_col3\" class=\"data row5 col3\" >175938</td> \n",
       "        <td id=\"T_1f45ce04_1faa_11e9_a3dd_e9400dbac465row5_col4\" class=\"data row5 col4\" >United States</td> \n",
       "    </tr>    <tr> \n",
       "        <td id=\"T_1f45ce04_1faa_11e9_a3dd_e9400dbac465row6_col0\" class=\"data row6 col0\" >2018-06-22 00:00:00</td> \n",
       "        <td id=\"T_1f45ce04_1faa_11e9_a3dd_e9400dbac465row6_col1\" class=\"data row6 col1\" >US</td> \n",
       "        <td id=\"T_1f45ce04_1faa_11e9_a3dd_e9400dbac465row6_col2\" class=\"data row6 col2\" >ENG</td> \n",
       "        <td id=\"T_1f45ce04_1faa_11e9_a3dd_e9400dbac465row6_col3\" class=\"data row6 col3\" >174838</td> \n",
       "        <td id=\"T_1f45ce04_1faa_11e9_a3dd_e9400dbac465row6_col4\" class=\"data row6 col4\" >United States</td> \n",
       "    </tr>    <tr> \n",
       "        <td id=\"T_1f45ce04_1faa_11e9_a3dd_e9400dbac465row7_col0\" class=\"data row7 col0\" >2018-06-26 00:00:00</td> \n",
       "        <td id=\"T_1f45ce04_1faa_11e9_a3dd_e9400dbac465row7_col1\" class=\"data row7 col1\" >US</td> \n",
       "        <td id=\"T_1f45ce04_1faa_11e9_a3dd_e9400dbac465row7_col2\" class=\"data row7 col2\" >ENG</td> \n",
       "        <td id=\"T_1f45ce04_1faa_11e9_a3dd_e9400dbac465row7_col3\" class=\"data row7 col3\" >169592</td> \n",
       "        <td id=\"T_1f45ce04_1faa_11e9_a3dd_e9400dbac465row7_col4\" class=\"data row7 col4\" >United States</td> \n",
       "    </tr>    <tr> \n",
       "        <td id=\"T_1f45ce04_1faa_11e9_a3dd_e9400dbac465row8_col0\" class=\"data row8 col0\" >2018-06-19 00:00:00</td> \n",
       "        <td id=\"T_1f45ce04_1faa_11e9_a3dd_e9400dbac465row8_col1\" class=\"data row8 col1\" >US</td> \n",
       "        <td id=\"T_1f45ce04_1faa_11e9_a3dd_e9400dbac465row8_col2\" class=\"data row8 col2\" >ENG</td> \n",
       "        <td id=\"T_1f45ce04_1faa_11e9_a3dd_e9400dbac465row8_col3\" class=\"data row8 col3\" >167862</td> \n",
       "        <td id=\"T_1f45ce04_1faa_11e9_a3dd_e9400dbac465row8_col4\" class=\"data row8 col4\" >United States</td> \n",
       "    </tr>    <tr> \n",
       "        <td id=\"T_1f45ce04_1faa_11e9_a3dd_e9400dbac465row9_col0\" class=\"data row9 col0\" >2018-06-07 00:00:00</td> \n",
       "        <td id=\"T_1f45ce04_1faa_11e9_a3dd_e9400dbac465row9_col1\" class=\"data row9 col1\" >US</td> \n",
       "        <td id=\"T_1f45ce04_1faa_11e9_a3dd_e9400dbac465row9_col2\" class=\"data row9 col2\" >ENG</td> \n",
       "        <td id=\"T_1f45ce04_1faa_11e9_a3dd_e9400dbac465row9_col3\" class=\"data row9 col3\" >166098</td> \n",
       "        <td id=\"T_1f45ce04_1faa_11e9_a3dd_e9400dbac465row9_col4\" class=\"data row9 col4\" >United States</td> \n",
       "    </tr></tbody> \n",
       "</table> "
      ],
      "text/plain": [
       "<pandas.io.formats.style.Styler at 0x7efd10565400>"
      ]
     },
     "execution_count": 11,
     "metadata": {},
     "output_type": "execute_result"
    }
   ],
   "source": [
    "DF_Q1 = Function1()\n",
    "DF_Q1.sort_values(by=['Count'], ascending = False).head(10).style.hide_index()"
   ]
  },
  {
   "cell_type": "code",
   "execution_count": 12,
   "metadata": {
    "ExecuteTime": {
     "end_time": "2019-01-24T07:31:54.183372Z",
     "start_time": "2019-01-24T07:31:54.154075Z"
    }
   },
   "outputs": [
    {
     "data": {
      "text/html": [
       "<style  type=\"text/css\" >\n",
       "</style>  \n",
       "<table id=\"T_1f50e5b4_1faa_11e9_a3dd_e9400dbac465\" > \n",
       "<thead>    <tr> \n",
       "        <th class=\"col_heading level0 col0\" >Jour</th> \n",
       "        <th class=\"col_heading level0 col1\" >Actor</th> \n",
       "        <th class=\"col_heading level0 col2\" >Langue</th> \n",
       "        <th class=\"col_heading level0 col3\" >Count</th> \n",
       "        <th class=\"col_heading level0 col4\" >Actor_corresp</th> \n",
       "    </tr></thead> \n",
       "<tbody></tbody> \n",
       "</table> "
      ],
      "text/plain": [
       "<pandas.io.formats.style.Styler at 0x7efcd6a95c88>"
      ]
     },
     "execution_count": 12,
     "metadata": {},
     "output_type": "execute_result"
    }
   ],
   "source": [
    "Triplet_Q1(\"2018-02-15\", \"US\", \"ENG\", DF_Q1)"
   ]
  },
  {
   "cell_type": "code",
   "execution_count": 14,
   "metadata": {
    "ExecuteTime": {
     "end_time": "2019-01-24T07:32:37.376477Z",
     "start_time": "2019-01-24T07:32:16.042851Z"
    }
   },
   "outputs": [
    {
     "data": {
      "text/html": [
       "<style  type=\"text/css\" >\n",
       "</style>  \n",
       "<table id=\"T_390f02ec_1faa_11e9_a3dd_e9400dbac465\" > \n",
       "<thead></thead> \n",
       "<tbody></tbody> \n",
       "</table> "
      ],
      "text/plain": [
       "<pandas.io.formats.style.Styler at 0x7efcd6a0de10>"
      ]
     },
     "execution_count": 14,
     "metadata": {},
     "output_type": "execute_result"
    }
   ],
   "source": [
    "Dataf = Function1_count(20180215, \"US\",  \"ENG\")\n",
    "Dataf"
   ]
  },
  {
   "cell_type": "markdown",
   "metadata": {
    "ExecuteTime": {
     "end_time": "2019-01-22T16:36:18.086687Z",
     "start_time": "2019-01-22T16:36:18.065631Z"
    }
   },
   "source": [
    "# Part 2."
   ]
  },
  {
   "cell_type": "markdown",
   "metadata": {},
   "source": [
    "for an actor given as a parameter, display the events (values in the events table) that refer to it (in the last 6 months)."
   ]
  },
  {
   "cell_type": "code",
   "execution_count": 15,
   "metadata": {
    "ExecuteTime": {
     "end_time": "2019-01-24T07:32:37.459939Z",
     "start_time": "2019-01-24T07:32:37.453723Z"
    }
   },
   "outputs": [],
   "source": [
    "def Function2(TheName, Date=20180601):\n",
    "    \"\"\"Méthode simple poure requeter la Q2\"\"\"\n",
    "    \n",
    "    pipeline = [\n",
    "    { \n",
    "        \"$match\" : { \"$and\": [{\"SQLDATE\":{\"$gte\":Date}}, {\"ActorName\" : TheName} ]}\n",
    "    },\n",
    "    { \n",
    "        \"$group\" : { \n",
    "            \"_id\" : {\"globalEventId\":\"$GLOBALEVENTID\", \"date\":\"$SQLDATE\", \"actor\":\"$ActorName\"}\n",
    "        }\n",
    "    }\n",
    "    ]\n",
    "    \n",
    "    result_query = pd.DataFrame(list(collection.aggregate(pipeline, allowDiskUse = True)))\n",
    "    DF = pd.DataFrame()\n",
    "    \n",
    "    DF['Date'] = pd.to_datetime(result_query.apply(lambda row : row[\"_id\"][\"date\"] , axis = 1), format='%Y%m%d')\n",
    "    DF['EventID'] = result_query.apply(lambda row : row[\"_id\"][\"globalEventId\"] , axis = 1)\n",
    "    DF['Actor'] = result_query.apply(lambda row : row[\"_id\"][\"actor\"] , axis = 1)    \n",
    "    \n",
    "    return DF"
   ]
  },
  {
   "cell_type": "code",
   "execution_count": 16,
   "metadata": {
    "ExecuteTime": {
     "end_time": "2019-01-24T07:32:54.126109Z",
     "start_time": "2019-01-24T07:32:37.503935Z"
    }
   },
   "outputs": [
    {
     "data": {
      "text/html": [
       "<style  type=\"text/css\" >\n",
       "</style>  \n",
       "<table id=\"T_430b3964_1faa_11e9_a3dd_e9400dbac465\" > \n",
       "<thead>    <tr> \n",
       "        <th class=\"col_heading level0 col0\" >Date</th> \n",
       "        <th class=\"col_heading level0 col1\" >EventID</th> \n",
       "        <th class=\"col_heading level0 col2\" >Actor</th> \n",
       "    </tr></thead> \n",
       "<tbody>    <tr> \n",
       "        <td id=\"T_430b3964_1faa_11e9_a3dd_e9400dbac465row0_col0\" class=\"data row0 col0\" >2018-06-30 00:00:00</td> \n",
       "        <td id=\"T_430b3964_1faa_11e9_a3dd_e9400dbac465row0_col1\" class=\"data row0 col1\" >768500375</td> \n",
       "        <td id=\"T_430b3964_1faa_11e9_a3dd_e9400dbac465row0_col2\" class=\"data row0 col2\" >BARACK OBAMA</td> \n",
       "    </tr>    <tr> \n",
       "        <td id=\"T_430b3964_1faa_11e9_a3dd_e9400dbac465row1_col0\" class=\"data row1 col0\" >2018-06-30 00:00:00</td> \n",
       "        <td id=\"T_430b3964_1faa_11e9_a3dd_e9400dbac465row1_col1\" class=\"data row1 col1\" >768418109</td> \n",
       "        <td id=\"T_430b3964_1faa_11e9_a3dd_e9400dbac465row1_col2\" class=\"data row1 col2\" >BARACK OBAMA</td> \n",
       "    </tr>    <tr> \n",
       "        <td id=\"T_430b3964_1faa_11e9_a3dd_e9400dbac465row2_col0\" class=\"data row2 col0\" >2018-06-30 00:00:00</td> \n",
       "        <td id=\"T_430b3964_1faa_11e9_a3dd_e9400dbac465row2_col1\" class=\"data row2 col1\" >768478850</td> \n",
       "        <td id=\"T_430b3964_1faa_11e9_a3dd_e9400dbac465row2_col2\" class=\"data row2 col2\" >BARACK OBAMA</td> \n",
       "    </tr>    <tr> \n",
       "        <td id=\"T_430b3964_1faa_11e9_a3dd_e9400dbac465row3_col0\" class=\"data row3 col0\" >2018-06-30 00:00:00</td> \n",
       "        <td id=\"T_430b3964_1faa_11e9_a3dd_e9400dbac465row3_col1\" class=\"data row3 col1\" >768412473</td> \n",
       "        <td id=\"T_430b3964_1faa_11e9_a3dd_e9400dbac465row3_col2\" class=\"data row3 col2\" >BARACK OBAMA</td> \n",
       "    </tr>    <tr> \n",
       "        <td id=\"T_430b3964_1faa_11e9_a3dd_e9400dbac465row4_col0\" class=\"data row4 col0\" >2018-06-30 00:00:00</td> \n",
       "        <td id=\"T_430b3964_1faa_11e9_a3dd_e9400dbac465row4_col1\" class=\"data row4 col1\" >768366192</td> \n",
       "        <td id=\"T_430b3964_1faa_11e9_a3dd_e9400dbac465row4_col2\" class=\"data row4 col2\" >BARACK OBAMA</td> \n",
       "    </tr>    <tr> \n",
       "        <td id=\"T_430b3964_1faa_11e9_a3dd_e9400dbac465row5_col0\" class=\"data row5 col0\" >2018-06-30 00:00:00</td> \n",
       "        <td id=\"T_430b3964_1faa_11e9_a3dd_e9400dbac465row5_col1\" class=\"data row5 col1\" >768540188</td> \n",
       "        <td id=\"T_430b3964_1faa_11e9_a3dd_e9400dbac465row5_col2\" class=\"data row5 col2\" >BARACK OBAMA</td> \n",
       "    </tr>    <tr> \n",
       "        <td id=\"T_430b3964_1faa_11e9_a3dd_e9400dbac465row6_col0\" class=\"data row6 col0\" >2018-06-30 00:00:00</td> \n",
       "        <td id=\"T_430b3964_1faa_11e9_a3dd_e9400dbac465row6_col1\" class=\"data row6 col1\" >768485771</td> \n",
       "        <td id=\"T_430b3964_1faa_11e9_a3dd_e9400dbac465row6_col2\" class=\"data row6 col2\" >BARACK OBAMA</td> \n",
       "    </tr>    <tr> \n",
       "        <td id=\"T_430b3964_1faa_11e9_a3dd_e9400dbac465row7_col0\" class=\"data row7 col0\" >2018-06-30 00:00:00</td> \n",
       "        <td id=\"T_430b3964_1faa_11e9_a3dd_e9400dbac465row7_col1\" class=\"data row7 col1\" >768530295</td> \n",
       "        <td id=\"T_430b3964_1faa_11e9_a3dd_e9400dbac465row7_col2\" class=\"data row7 col2\" >BARACK OBAMA</td> \n",
       "    </tr>    <tr> \n",
       "        <td id=\"T_430b3964_1faa_11e9_a3dd_e9400dbac465row8_col0\" class=\"data row8 col0\" >2018-06-30 00:00:00</td> \n",
       "        <td id=\"T_430b3964_1faa_11e9_a3dd_e9400dbac465row8_col1\" class=\"data row8 col1\" >768419983</td> \n",
       "        <td id=\"T_430b3964_1faa_11e9_a3dd_e9400dbac465row8_col2\" class=\"data row8 col2\" >BARACK OBAMA</td> \n",
       "    </tr>    <tr> \n",
       "        <td id=\"T_430b3964_1faa_11e9_a3dd_e9400dbac465row9_col0\" class=\"data row9 col0\" >2018-06-30 00:00:00</td> \n",
       "        <td id=\"T_430b3964_1faa_11e9_a3dd_e9400dbac465row9_col1\" class=\"data row9 col1\" >768538572</td> \n",
       "        <td id=\"T_430b3964_1faa_11e9_a3dd_e9400dbac465row9_col2\" class=\"data row9 col2\" >BARACK OBAMA</td> \n",
       "    </tr></tbody> \n",
       "</table> "
      ],
      "text/plain": [
       "<pandas.io.formats.style.Styler at 0x7efcd6a9e358>"
      ]
     },
     "execution_count": 16,
     "metadata": {},
     "output_type": "execute_result"
    }
   ],
   "source": [
    "DF_Q2 = Function2(\"BARACK OBAMA\")\n",
    "DF_Q2.sort_values(by=[\"Date\"], ascending = False).head(10).style.hide_index()"
   ]
  },
  {
   "cell_type": "markdown",
   "metadata": {},
   "source": [
    "# Part 3."
   ]
  },
  {
   "cell_type": "markdown",
   "metadata": {},
   "source": [
    "find the subjects (actors) who had the most positive/negative articles for each triplet (month, country, language of the article)."
   ]
  },
  {
   "cell_type": "code",
   "execution_count": 18,
   "metadata": {
    "ExecuteTime": {
     "end_time": "2019-01-24T07:32:54.238293Z",
     "start_time": "2019-01-24T07:32:54.230001Z"
    }
   },
   "outputs": [],
   "source": [
    "def Function3():\n",
    "    pipeline = [    \n",
    "    {\n",
    "        \"$project\": {\n",
    "            \"MonthYear\": 1, \"ActorName\" : 1, \"MentionDocTranslationInfo\" : 1, \"ActorGeo_CountryCode\":1 ,\n",
    "            \"lessThan0\": {  #// Set to 1 if AvgTone < 0\n",
    "                \"$cond\": [ { \"$lt\": [ \"$AvgTone\", 0 ] }, 1, 0] #// MentionDocTone vs AvgTone ! \n",
    "            },\n",
    "            \"moreThan0\": {  #// Set to 1 if AvgTone > 0\n",
    "                \"$cond\": [ { \"$gt\": [ \"$AvgTone\", 0 ] }, 1, 0]\n",
    "            }\n",
    "        }\n",
    "    },\n",
    "    {\n",
    "        \"$group\": {\n",
    "            \"_id\": {\"mois\": \"$MonthYear\",  \"actor\":\"$ActorName\",\"langue\":\"$MentionDocTranslationInfo\",\n",
    "                    \"pays\":\"$ActorGeo_CountryCode\"}, \n",
    "                                                                                                                      #   // NE PAS FAIRE CA, EN GROUPANT PAR GLOBALEVENTID\n",
    "            \"countNegativeAvgTone\" : { \"$sum\": \"$lessThan0\" }, \n",
    "            #Compte les AvgTone négatifs groupé par MonthYear, ActorCountryCode, MentionDocTranslationInfo\n",
    "            \"countPositiveAvgTone\" : { \"$sum\": \"$moreThan0\" }\n",
    "        }\n",
    "    }]\n",
    "    \n",
    "    result_query = pd.DataFrame(list(collection.aggregate(pipeline, allowDiskUse = True)))\n",
    "    DF = pd.DataFrame()\n",
    "    \n",
    "    DF['Date'] = pd.to_datetime(result_query.apply(lambda row : row[\"_id\"][\"mois\"] , axis = 1), format='%Y%m')\n",
    "    DF['Country'] = result_query.apply(lambda row : row[\"_id\"][\"pays\"] , axis = 1)\n",
    "    DF['Langue'] = result_query.apply(lambda row : row[\"_id\"][\"langue\"] , axis = 1)\n",
    "    DF['Actor'] = result_query.apply(lambda row : row[\"_id\"][\"actor\"] , axis = 1)\n",
    "    DF['#NegTone'] = result_query[\"countNegativeAvgTone\"]\n",
    "    DF['#PosTone'] = result_query[\"countPositiveAvgTone\"]\n",
    "    \n",
    "    return DF\n",
    "\n",
    "def Triplet_Q3(Month, Country, Langue, DF):\n",
    "    \n",
    "    return DF.loc[(DF[\"Country\"]==Country) & (DF['Langue'] == Langue) & (DF['Date'].dt.month == Month)]\n"
   ]
  },
  {
   "cell_type": "code",
   "execution_count": 19,
   "metadata": {
    "ExecuteTime": {
     "end_time": "2019-01-24T07:34:56.060258Z",
     "start_time": "2019-01-24T07:32:54.279682Z"
    }
   },
   "outputs": [
    {
     "data": {
      "text/html": [
       "<style  type=\"text/css\" >\n",
       "</style>  \n",
       "<table id=\"T_8bb82c4e_1faa_11e9_a3dd_e9400dbac465\" > \n",
       "<thead>    <tr> \n",
       "        <th class=\"col_heading level0 col0\" >Date</th> \n",
       "        <th class=\"col_heading level0 col1\" >Country</th> \n",
       "        <th class=\"col_heading level0 col2\" >Langue</th> \n",
       "        <th class=\"col_heading level0 col3\" >Actor</th> \n",
       "        <th class=\"col_heading level0 col4\" >#NegTone</th> \n",
       "        <th class=\"col_heading level0 col5\" >#PosTone</th> \n",
       "    </tr></thead> \n",
       "<tbody>    <tr> \n",
       "        <td id=\"T_8bb82c4e_1faa_11e9_a3dd_e9400dbac465row0_col0\" class=\"data row0 col0\" >2018-06-01 00:00:00</td> \n",
       "        <td id=\"T_8bb82c4e_1faa_11e9_a3dd_e9400dbac465row0_col1\" class=\"data row0 col1\" ></td> \n",
       "        <td id=\"T_8bb82c4e_1faa_11e9_a3dd_e9400dbac465row0_col2\" class=\"data row0 col2\" >ENG</td> \n",
       "        <td id=\"T_8bb82c4e_1faa_11e9_a3dd_e9400dbac465row0_col3\" class=\"data row0 col3\" ></td> \n",
       "        <td id=\"T_8bb82c4e_1faa_11e9_a3dd_e9400dbac465row0_col4\" class=\"data row0 col4\" >1558117</td> \n",
       "        <td id=\"T_8bb82c4e_1faa_11e9_a3dd_e9400dbac465row0_col5\" class=\"data row0 col5\" >787592</td> \n",
       "    </tr>    <tr> \n",
       "        <td id=\"T_8bb82c4e_1faa_11e9_a3dd_e9400dbac465row1_col0\" class=\"data row1 col0\" >2018-06-01 00:00:00</td> \n",
       "        <td id=\"T_8bb82c4e_1faa_11e9_a3dd_e9400dbac465row1_col1\" class=\"data row1 col1\" >US</td> \n",
       "        <td id=\"T_8bb82c4e_1faa_11e9_a3dd_e9400dbac465row1_col2\" class=\"data row1 col2\" >ENG</td> \n",
       "        <td id=\"T_8bb82c4e_1faa_11e9_a3dd_e9400dbac465row1_col3\" class=\"data row1 col3\" >UNITED STATES</td> \n",
       "        <td id=\"T_8bb82c4e_1faa_11e9_a3dd_e9400dbac465row1_col4\" class=\"data row1 col4\" >687051</td> \n",
       "        <td id=\"T_8bb82c4e_1faa_11e9_a3dd_e9400dbac465row1_col5\" class=\"data row1 col5\" >291276</td> \n",
       "    </tr>    <tr> \n",
       "        <td id=\"T_8bb82c4e_1faa_11e9_a3dd_e9400dbac465row2_col0\" class=\"data row2 col0\" >2018-06-01 00:00:00</td> \n",
       "        <td id=\"T_8bb82c4e_1faa_11e9_a3dd_e9400dbac465row2_col1\" class=\"data row2 col1\" ></td> \n",
       "        <td id=\"T_8bb82c4e_1faa_11e9_a3dd_e9400dbac465row2_col2\" class=\"data row2 col2\" >SPA</td> \n",
       "        <td id=\"T_8bb82c4e_1faa_11e9_a3dd_e9400dbac465row2_col3\" class=\"data row2 col3\" ></td> \n",
       "        <td id=\"T_8bb82c4e_1faa_11e9_a3dd_e9400dbac465row2_col4\" class=\"data row2 col4\" >320181</td> \n",
       "        <td id=\"T_8bb82c4e_1faa_11e9_a3dd_e9400dbac465row2_col5\" class=\"data row2 col5\" >143546</td> \n",
       "    </tr>    <tr> \n",
       "        <td id=\"T_8bb82c4e_1faa_11e9_a3dd_e9400dbac465row3_col0\" class=\"data row3 col0\" >2018-06-01 00:00:00</td> \n",
       "        <td id=\"T_8bb82c4e_1faa_11e9_a3dd_e9400dbac465row3_col1\" class=\"data row3 col1\" ></td> \n",
       "        <td id=\"T_8bb82c4e_1faa_11e9_a3dd_e9400dbac465row3_col2\" class=\"data row3 col2\" >RUS</td> \n",
       "        <td id=\"T_8bb82c4e_1faa_11e9_a3dd_e9400dbac465row3_col3\" class=\"data row3 col3\" ></td> \n",
       "        <td id=\"T_8bb82c4e_1faa_11e9_a3dd_e9400dbac465row3_col4\" class=\"data row3 col4\" >133052</td> \n",
       "        <td id=\"T_8bb82c4e_1faa_11e9_a3dd_e9400dbac465row3_col5\" class=\"data row3 col5\" >49261</td> \n",
       "    </tr>    <tr> \n",
       "        <td id=\"T_8bb82c4e_1faa_11e9_a3dd_e9400dbac465row4_col0\" class=\"data row4 col0\" >2018-06-01 00:00:00</td> \n",
       "        <td id=\"T_8bb82c4e_1faa_11e9_a3dd_e9400dbac465row4_col1\" class=\"data row4 col1\" ></td> \n",
       "        <td id=\"T_8bb82c4e_1faa_11e9_a3dd_e9400dbac465row4_col2\" class=\"data row4 col2\" >FRA</td> \n",
       "        <td id=\"T_8bb82c4e_1faa_11e9_a3dd_e9400dbac465row4_col3\" class=\"data row4 col3\" ></td> \n",
       "        <td id=\"T_8bb82c4e_1faa_11e9_a3dd_e9400dbac465row4_col4\" class=\"data row4 col4\" >109876</td> \n",
       "        <td id=\"T_8bb82c4e_1faa_11e9_a3dd_e9400dbac465row4_col5\" class=\"data row4 col5\" >50475</td> \n",
       "    </tr>    <tr> \n",
       "        <td id=\"T_8bb82c4e_1faa_11e9_a3dd_e9400dbac465row5_col0\" class=\"data row5 col0\" >2018-06-01 00:00:00</td> \n",
       "        <td id=\"T_8bb82c4e_1faa_11e9_a3dd_e9400dbac465row5_col1\" class=\"data row5 col1\" ></td> \n",
       "        <td id=\"T_8bb82c4e_1faa_11e9_a3dd_e9400dbac465row5_col2\" class=\"data row5 col2\" >ARA</td> \n",
       "        <td id=\"T_8bb82c4e_1faa_11e9_a3dd_e9400dbac465row5_col3\" class=\"data row5 col3\" ></td> \n",
       "        <td id=\"T_8bb82c4e_1faa_11e9_a3dd_e9400dbac465row5_col4\" class=\"data row5 col4\" >96889</td> \n",
       "        <td id=\"T_8bb82c4e_1faa_11e9_a3dd_e9400dbac465row5_col5\" class=\"data row5 col5\" >52621</td> \n",
       "    </tr>    <tr> \n",
       "        <td id=\"T_8bb82c4e_1faa_11e9_a3dd_e9400dbac465row6_col0\" class=\"data row6 col0\" >2018-06-01 00:00:00</td> \n",
       "        <td id=\"T_8bb82c4e_1faa_11e9_a3dd_e9400dbac465row6_col1\" class=\"data row6 col1\" >CA</td> \n",
       "        <td id=\"T_8bb82c4e_1faa_11e9_a3dd_e9400dbac465row6_col2\" class=\"data row6 col2\" >ENG</td> \n",
       "        <td id=\"T_8bb82c4e_1faa_11e9_a3dd_e9400dbac465row6_col3\" class=\"data row6 col3\" >CANADA</td> \n",
       "        <td id=\"T_8bb82c4e_1faa_11e9_a3dd_e9400dbac465row6_col4\" class=\"data row6 col4\" >73542</td> \n",
       "        <td id=\"T_8bb82c4e_1faa_11e9_a3dd_e9400dbac465row6_col5\" class=\"data row6 col5\" >31971</td> \n",
       "    </tr>    <tr> \n",
       "        <td id=\"T_8bb82c4e_1faa_11e9_a3dd_e9400dbac465row7_col0\" class=\"data row7 col0\" >2018-06-01 00:00:00</td> \n",
       "        <td id=\"T_8bb82c4e_1faa_11e9_a3dd_e9400dbac465row7_col1\" class=\"data row7 col1\" >UK</td> \n",
       "        <td id=\"T_8bb82c4e_1faa_11e9_a3dd_e9400dbac465row7_col2\" class=\"data row7 col2\" >ENG</td> \n",
       "        <td id=\"T_8bb82c4e_1faa_11e9_a3dd_e9400dbac465row7_col3\" class=\"data row7 col3\" >UNITED KINGDOM</td> \n",
       "        <td id=\"T_8bb82c4e_1faa_11e9_a3dd_e9400dbac465row7_col4\" class=\"data row7 col4\" >73097</td> \n",
       "        <td id=\"T_8bb82c4e_1faa_11e9_a3dd_e9400dbac465row7_col5\" class=\"data row7 col5\" >50245</td> \n",
       "    </tr>    <tr> \n",
       "        <td id=\"T_8bb82c4e_1faa_11e9_a3dd_e9400dbac465row8_col0\" class=\"data row8 col0\" >2018-06-01 00:00:00</td> \n",
       "        <td id=\"T_8bb82c4e_1faa_11e9_a3dd_e9400dbac465row8_col1\" class=\"data row8 col1\" >US</td> \n",
       "        <td id=\"T_8bb82c4e_1faa_11e9_a3dd_e9400dbac465row8_col2\" class=\"data row8 col2\" >ENG</td> \n",
       "        <td id=\"T_8bb82c4e_1faa_11e9_a3dd_e9400dbac465row8_col3\" class=\"data row8 col3\" >POLICE</td> \n",
       "        <td id=\"T_8bb82c4e_1faa_11e9_a3dd_e9400dbac465row8_col4\" class=\"data row8 col4\" >65530</td> \n",
       "        <td id=\"T_8bb82c4e_1faa_11e9_a3dd_e9400dbac465row8_col5\" class=\"data row8 col5\" >3435</td> \n",
       "    </tr>    <tr> \n",
       "        <td id=\"T_8bb82c4e_1faa_11e9_a3dd_e9400dbac465row9_col0\" class=\"data row9 col0\" >2018-06-01 00:00:00</td> \n",
       "        <td id=\"T_8bb82c4e_1faa_11e9_a3dd_e9400dbac465row9_col1\" class=\"data row9 col1\" >IS</td> \n",
       "        <td id=\"T_8bb82c4e_1faa_11e9_a3dd_e9400dbac465row9_col2\" class=\"data row9 col2\" >ENG</td> \n",
       "        <td id=\"T_8bb82c4e_1faa_11e9_a3dd_e9400dbac465row9_col3\" class=\"data row9 col3\" >ISRAEL</td> \n",
       "        <td id=\"T_8bb82c4e_1faa_11e9_a3dd_e9400dbac465row9_col4\" class=\"data row9 col4\" >61457</td> \n",
       "        <td id=\"T_8bb82c4e_1faa_11e9_a3dd_e9400dbac465row9_col5\" class=\"data row9 col5\" >14653</td> \n",
       "    </tr></tbody> \n",
       "</table> "
      ],
      "text/plain": [
       "<pandas.io.formats.style.Styler at 0x7efcd6ba1eb8>"
      ]
     },
     "execution_count": 19,
     "metadata": {},
     "output_type": "execute_result"
    }
   ],
   "source": [
    "DF_Q3 = Function3()\n",
    "DF_Q3.sort_values(by=[\"#NegTone\"], ascending = False).head(10).style.hide_index()"
   ]
  },
  {
   "cell_type": "code",
   "execution_count": 20,
   "metadata": {
    "ExecuteTime": {
     "end_time": "2019-01-24T07:34:56.260870Z",
     "start_time": "2019-01-24T07:34:56.135655Z"
    }
   },
   "outputs": [
    {
     "data": {
      "text/html": [
       "<div>\n",
       "<style scoped>\n",
       "    .dataframe tbody tr th:only-of-type {\n",
       "        vertical-align: middle;\n",
       "    }\n",
       "\n",
       "    .dataframe tbody tr th {\n",
       "        vertical-align: top;\n",
       "    }\n",
       "\n",
       "    .dataframe thead th {\n",
       "        text-align: right;\n",
       "    }\n",
       "</style>\n",
       "<table border=\"1\" class=\"dataframe\">\n",
       "  <thead>\n",
       "    <tr style=\"text-align: right;\">\n",
       "      <th></th>\n",
       "      <th>Date</th>\n",
       "      <th>Country</th>\n",
       "      <th>Langue</th>\n",
       "      <th>Actor</th>\n",
       "      <th>#NegTone</th>\n",
       "      <th>#PosTone</th>\n",
       "    </tr>\n",
       "  </thead>\n",
       "  <tbody>\n",
       "  </tbody>\n",
       "</table>\n",
       "</div>"
      ],
      "text/plain": [
       "Empty DataFrame\n",
       "Columns: [Date, Country, Langue, Actor, #NegTone, #PosTone]\n",
       "Index: []"
      ]
     },
     "execution_count": 20,
     "metadata": {},
     "output_type": "execute_result"
    }
   ],
   "source": [
    "Triplet_Q3(2, \"US\", \"ENG\", DF_Q3)"
   ]
  },
  {
   "cell_type": "markdown",
   "metadata": {},
   "source": [
    "# Part 4."
   ]
  },
  {
   "cell_type": "markdown",
   "metadata": {},
   "source": [
    "find out which actors/countries/organisations are the most divisive (e.g. had a positive perception in one part of the world and a negative perception in the rest of the world). Allow one aggregation per day/month/year."
   ]
  },
  {
   "cell_type": "code",
   "execution_count": 21,
   "metadata": {
    "ExecuteTime": {
     "end_time": "2019-01-24T07:35:22.754106Z",
     "start_time": "2019-01-24T07:34:56.311442Z"
    }
   },
   "outputs": [
    {
     "data": {
      "text/html": [
       "<style  type=\"text/css\" >\n",
       "</style>  \n",
       "<table id=\"T_9ba20a3a_1faa_11e9_a3dd_e9400dbac465\" > \n",
       "<thead>    <tr> \n",
       "        <th class=\"col_heading level0 col0\" >Date</th> \n",
       "        <th class=\"col_heading level0 col1\" >Actor</th> \n",
       "        <th class=\"col_heading level0 col2\" >ToneSTD</th> \n",
       "        <th class=\"col_heading level0 col3\" >Actor_corresp</th> \n",
       "    </tr></thead> \n",
       "<tbody>    <tr> \n",
       "        <td id=\"T_9ba20a3a_1faa_11e9_a3dd_e9400dbac465row0_col0\" class=\"data row0 col0\" >2018-06-01 00:00:00</td> \n",
       "        <td id=\"T_9ba20a3a_1faa_11e9_a3dd_e9400dbac465row0_col1\" class=\"data row0 col1\" >LU</td> \n",
       "        <td id=\"T_9ba20a3a_1faa_11e9_a3dd_e9400dbac465row0_col2\" class=\"data row0 col2\" >2.94039</td> \n",
       "        <td id=\"T_9ba20a3a_1faa_11e9_a3dd_e9400dbac465row0_col3\" class=\"data row0 col3\" >Luxembourg</td> \n",
       "    </tr>    <tr> \n",
       "        <td id=\"T_9ba20a3a_1faa_11e9_a3dd_e9400dbac465row1_col0\" class=\"data row1 col0\" >2018-06-01 00:00:00</td> \n",
       "        <td id=\"T_9ba20a3a_1faa_11e9_a3dd_e9400dbac465row1_col1\" class=\"data row1 col1\" >CU</td> \n",
       "        <td id=\"T_9ba20a3a_1faa_11e9_a3dd_e9400dbac465row1_col2\" class=\"data row1 col2\" >3.45535</td> \n",
       "        <td id=\"T_9ba20a3a_1faa_11e9_a3dd_e9400dbac465row1_col3\" class=\"data row1 col3\" >Cuba</td> \n",
       "    </tr>    <tr> \n",
       "        <td id=\"T_9ba20a3a_1faa_11e9_a3dd_e9400dbac465row2_col0\" class=\"data row2 col0\" >2018-06-01 00:00:00</td> \n",
       "        <td id=\"T_9ba20a3a_1faa_11e9_a3dd_e9400dbac465row2_col1\" class=\"data row2 col1\" >MN</td> \n",
       "        <td id=\"T_9ba20a3a_1faa_11e9_a3dd_e9400dbac465row2_col2\" class=\"data row2 col2\" >3.49561</td> \n",
       "        <td id=\"T_9ba20a3a_1faa_11e9_a3dd_e9400dbac465row2_col3\" class=\"data row2 col3\" >Monaco</td> \n",
       "    </tr>    <tr> \n",
       "        <td id=\"T_9ba20a3a_1faa_11e9_a3dd_e9400dbac465row3_col0\" class=\"data row3 col0\" >2018-06-01 00:00:00</td> \n",
       "        <td id=\"T_9ba20a3a_1faa_11e9_a3dd_e9400dbac465row3_col1\" class=\"data row3 col1\" >LE</td> \n",
       "        <td id=\"T_9ba20a3a_1faa_11e9_a3dd_e9400dbac465row3_col2\" class=\"data row3 col2\" >3.72739</td> \n",
       "        <td id=\"T_9ba20a3a_1faa_11e9_a3dd_e9400dbac465row3_col3\" class=\"data row3 col3\" >Lebanon</td> \n",
       "    </tr>    <tr> \n",
       "        <td id=\"T_9ba20a3a_1faa_11e9_a3dd_e9400dbac465row4_col0\" class=\"data row4 col0\" >2018-06-01 00:00:00</td> \n",
       "        <td id=\"T_9ba20a3a_1faa_11e9_a3dd_e9400dbac465row4_col1\" class=\"data row4 col1\" >AM</td> \n",
       "        <td id=\"T_9ba20a3a_1faa_11e9_a3dd_e9400dbac465row4_col2\" class=\"data row4 col2\" >3.73939</td> \n",
       "        <td id=\"T_9ba20a3a_1faa_11e9_a3dd_e9400dbac465row4_col3\" class=\"data row4 col3\" >Armenia</td> \n",
       "    </tr>    <tr> \n",
       "        <td id=\"T_9ba20a3a_1faa_11e9_a3dd_e9400dbac465row5_col0\" class=\"data row5 col0\" >2018-06-01 00:00:00</td> \n",
       "        <td id=\"T_9ba20a3a_1faa_11e9_a3dd_e9400dbac465row5_col1\" class=\"data row5 col1\" >GH</td> \n",
       "        <td id=\"T_9ba20a3a_1faa_11e9_a3dd_e9400dbac465row5_col2\" class=\"data row5 col2\" >3.92591</td> \n",
       "        <td id=\"T_9ba20a3a_1faa_11e9_a3dd_e9400dbac465row5_col3\" class=\"data row5 col3\" >Ghana</td> \n",
       "    </tr>    <tr> \n",
       "        <td id=\"T_9ba20a3a_1faa_11e9_a3dd_e9400dbac465row6_col0\" class=\"data row6 col0\" >2018-06-01 00:00:00</td> \n",
       "        <td id=\"T_9ba20a3a_1faa_11e9_a3dd_e9400dbac465row6_col1\" class=\"data row6 col1\" >GL</td> \n",
       "        <td id=\"T_9ba20a3a_1faa_11e9_a3dd_e9400dbac465row6_col2\" class=\"data row6 col2\" >2.68775</td> \n",
       "        <td id=\"T_9ba20a3a_1faa_11e9_a3dd_e9400dbac465row6_col3\" class=\"data row6 col3\" >Greenland</td> \n",
       "    </tr>    <tr> \n",
       "        <td id=\"T_9ba20a3a_1faa_11e9_a3dd_e9400dbac465row7_col0\" class=\"data row7 col0\" >2018-06-01 00:00:00</td> \n",
       "        <td id=\"T_9ba20a3a_1faa_11e9_a3dd_e9400dbac465row7_col1\" class=\"data row7 col1\" >MA</td> \n",
       "        <td id=\"T_9ba20a3a_1faa_11e9_a3dd_e9400dbac465row7_col2\" class=\"data row7 col2\" >3.64885</td> \n",
       "        <td id=\"T_9ba20a3a_1faa_11e9_a3dd_e9400dbac465row7_col3\" class=\"data row7 col3\" >Madagascar</td> \n",
       "    </tr>    <tr> \n",
       "        <td id=\"T_9ba20a3a_1faa_11e9_a3dd_e9400dbac465row8_col0\" class=\"data row8 col0\" >2018-06-01 00:00:00</td> \n",
       "        <td id=\"T_9ba20a3a_1faa_11e9_a3dd_e9400dbac465row8_col1\" class=\"data row8 col1\" >RQ</td> \n",
       "        <td id=\"T_9ba20a3a_1faa_11e9_a3dd_e9400dbac465row8_col2\" class=\"data row8 col2\" >3.44086</td> \n",
       "        <td id=\"T_9ba20a3a_1faa_11e9_a3dd_e9400dbac465row8_col3\" class=\"data row8 col3\" >Puerto Rico</td> \n",
       "    </tr>    <tr> \n",
       "        <td id=\"T_9ba20a3a_1faa_11e9_a3dd_e9400dbac465row9_col0\" class=\"data row9 col0\" >2018-06-01 00:00:00</td> \n",
       "        <td id=\"T_9ba20a3a_1faa_11e9_a3dd_e9400dbac465row9_col1\" class=\"data row9 col1\" >TW</td> \n",
       "        <td id=\"T_9ba20a3a_1faa_11e9_a3dd_e9400dbac465row9_col2\" class=\"data row9 col2\" >3.12743</td> \n",
       "        <td id=\"T_9ba20a3a_1faa_11e9_a3dd_e9400dbac465row9_col3\" class=\"data row9 col3\" >Taiwan</td> \n",
       "    </tr></tbody> \n",
       "</table> "
      ],
      "text/plain": [
       "<pandas.io.formats.style.Styler at 0x7efcd6a6f4e0>"
      ]
     },
     "execution_count": 21,
     "metadata": {},
     "output_type": "execute_result"
    }
   ],
   "source": [
    "def Function4(periodicity, correspondance=1):\n",
    "    \n",
    "    if periodicity == \"Day\":\n",
    "        typeDate = \"$SQLDATE\"\n",
    "    else:\n",
    "        typeDate = \"$MonthYear\"\n",
    "    \n",
    "    pipeline = [\n",
    "   {\"$group\": {\n",
    "       \"_id\" : { \"periode\": typeDate, \"actor\": \"$ActorGeo_CountryCode\"},\n",
    "       \"ToneStd\": {\"$stdDevPop\": \"$AvgTone\"}\n",
    "       }\n",
    "       }\n",
    "    ]\n",
    "    \n",
    "    result_query = pd.DataFrame(list(collection.aggregate(pipeline, allowDiskUse = True)))\n",
    "    DF = pd.DataFrame()\n",
    "    \n",
    "    if typeDate == \"Day\":\n",
    "        DF['Date'] = pd.to_datetime(result_query.apply(lambda row : row[\"_id\"][\"periode\"] , axis = 1), format='%Y%m%d')\n",
    "    else:\n",
    "        DF['Date'] = pd.to_datetime(result_query.apply(lambda row : row[\"_id\"][\"periode\"] , axis = 1), format='%Y%m')\n",
    "    \n",
    "    DF['Actor'] = result_query.apply(lambda row : row[\"_id\"][\"actor\"] , axis = 1)\n",
    "    DF['ToneSTD'] = result_query[\"ToneStd\"]\n",
    "    \n",
    "    if correspondance==1:\n",
    "        DF=replace_by_correspondence(DF, df_country_code, 'Actor')\n",
    "    \n",
    "    return DF\n",
    "\n",
    "DF_Q4 = Function4(\"Month\")\n",
    "DF_Q4.sort_values(by=[\"Date\"], ascending = False).head(10).style.hide_index()"
   ]
  },
  {
   "cell_type": "code",
   "execution_count": 22,
   "metadata": {
    "ExecuteTime": {
     "end_time": "2019-01-24T07:35:22.830637Z",
     "start_time": "2019-01-24T07:35:22.819906Z"
    }
   },
   "outputs": [
    {
     "data": {
      "text/html": [
       "<style  type=\"text/css\" >\n",
       "</style>  \n",
       "<table id=\"T_9bad1c9a_1faa_11e9_a3dd_e9400dbac465\" > \n",
       "<thead>    <tr> \n",
       "        <th class=\"col_heading level0 col0\" >Date</th> \n",
       "        <th class=\"col_heading level0 col1\" >Actor</th> \n",
       "        <th class=\"col_heading level0 col2\" >ToneSTD</th> \n",
       "        <th class=\"col_heading level0 col3\" >Actor_corresp</th> \n",
       "    </tr></thead> \n",
       "<tbody>    <tr> \n",
       "        <td id=\"T_9bad1c9a_1faa_11e9_a3dd_e9400dbac465row0_col0\" class=\"data row0 col0\" >2017-06-01 00:00:00</td> \n",
       "        <td id=\"T_9bad1c9a_1faa_11e9_a3dd_e9400dbac465row0_col1\" class=\"data row0 col1\" >FM</td> \n",
       "        <td id=\"T_9bad1c9a_1faa_11e9_a3dd_e9400dbac465row0_col2\" class=\"data row0 col2\" >9.70697</td> \n",
       "        <td id=\"T_9bad1c9a_1faa_11e9_a3dd_e9400dbac465row0_col3\" class=\"data row0 col3\" >Micronesia</td> \n",
       "    </tr>    <tr> \n",
       "        <td id=\"T_9bad1c9a_1faa_11e9_a3dd_e9400dbac465row1_col0\" class=\"data row1 col0\" >2018-05-01 00:00:00</td> \n",
       "        <td id=\"T_9bad1c9a_1faa_11e9_a3dd_e9400dbac465row1_col1\" class=\"data row1 col1\" >ER</td> \n",
       "        <td id=\"T_9bad1c9a_1faa_11e9_a3dd_e9400dbac465row1_col2\" class=\"data row1 col2\" >9.24233</td> \n",
       "        <td id=\"T_9bad1c9a_1faa_11e9_a3dd_e9400dbac465row1_col3\" class=\"data row1 col3\" >Eritrea</td> \n",
       "    </tr>    <tr> \n",
       "        <td id=\"T_9bad1c9a_1faa_11e9_a3dd_e9400dbac465row2_col0\" class=\"data row2 col0\" >2017-06-01 00:00:00</td> \n",
       "        <td id=\"T_9bad1c9a_1faa_11e9_a3dd_e9400dbac465row2_col1\" class=\"data row2 col1\" >MO</td> \n",
       "        <td id=\"T_9bad1c9a_1faa_11e9_a3dd_e9400dbac465row2_col2\" class=\"data row2 col2\" >7.06373</td> \n",
       "        <td id=\"T_9bad1c9a_1faa_11e9_a3dd_e9400dbac465row2_col3\" class=\"data row2 col3\" >Morocco</td> \n",
       "    </tr>    <tr> \n",
       "        <td id=\"T_9bad1c9a_1faa_11e9_a3dd_e9400dbac465row3_col0\" class=\"data row3 col0\" >2017-06-01 00:00:00</td> \n",
       "        <td id=\"T_9bad1c9a_1faa_11e9_a3dd_e9400dbac465row3_col1\" class=\"data row3 col1\" >UZ</td> \n",
       "        <td id=\"T_9bad1c9a_1faa_11e9_a3dd_e9400dbac465row3_col2\" class=\"data row3 col2\" >6.42937</td> \n",
       "        <td id=\"T_9bad1c9a_1faa_11e9_a3dd_e9400dbac465row3_col3\" class=\"data row3 col3\" >Uzbekistan</td> \n",
       "    </tr>    <tr> \n",
       "        <td id=\"T_9bad1c9a_1faa_11e9_a3dd_e9400dbac465row4_col0\" class=\"data row4 col0\" >2017-06-01 00:00:00</td> \n",
       "        <td id=\"T_9bad1c9a_1faa_11e9_a3dd_e9400dbac465row4_col1\" class=\"data row4 col1\" >SW</td> \n",
       "        <td id=\"T_9bad1c9a_1faa_11e9_a3dd_e9400dbac465row4_col2\" class=\"data row4 col2\" >6.07798</td> \n",
       "        <td id=\"T_9bad1c9a_1faa_11e9_a3dd_e9400dbac465row4_col3\" class=\"data row4 col3\" >Sweden</td> \n",
       "    </tr>    <tr> \n",
       "        <td id=\"T_9bad1c9a_1faa_11e9_a3dd_e9400dbac465row5_col0\" class=\"data row5 col0\" >2008-06-01 00:00:00</td> \n",
       "        <td id=\"T_9bad1c9a_1faa_11e9_a3dd_e9400dbac465row5_col1\" class=\"data row5 col1\" >RP</td> \n",
       "        <td id=\"T_9bad1c9a_1faa_11e9_a3dd_e9400dbac465row5_col2\" class=\"data row5 col2\" >5.92932</td> \n",
       "        <td id=\"T_9bad1c9a_1faa_11e9_a3dd_e9400dbac465row5_col3\" class=\"data row5 col3\" >Philippines</td> \n",
       "    </tr>    <tr> \n",
       "        <td id=\"T_9bad1c9a_1faa_11e9_a3dd_e9400dbac465row6_col0\" class=\"data row6 col0\" >2017-06-01 00:00:00</td> \n",
       "        <td id=\"T_9bad1c9a_1faa_11e9_a3dd_e9400dbac465row6_col1\" class=\"data row6 col1\" >FI</td> \n",
       "        <td id=\"T_9bad1c9a_1faa_11e9_a3dd_e9400dbac465row6_col2\" class=\"data row6 col2\" >5.68876</td> \n",
       "        <td id=\"T_9bad1c9a_1faa_11e9_a3dd_e9400dbac465row6_col3\" class=\"data row6 col3\" >Finland</td> \n",
       "    </tr>    <tr> \n",
       "        <td id=\"T_9bad1c9a_1faa_11e9_a3dd_e9400dbac465row7_col0\" class=\"data row7 col0\" >2017-06-01 00:00:00</td> \n",
       "        <td id=\"T_9bad1c9a_1faa_11e9_a3dd_e9400dbac465row7_col1\" class=\"data row7 col1\" >BF</td> \n",
       "        <td id=\"T_9bad1c9a_1faa_11e9_a3dd_e9400dbac465row7_col2\" class=\"data row7 col2\" >5.53772</td> \n",
       "        <td id=\"T_9bad1c9a_1faa_11e9_a3dd_e9400dbac465row7_col3\" class=\"data row7 col3\" >Bahamas</td> \n",
       "    </tr>    <tr> \n",
       "        <td id=\"T_9bad1c9a_1faa_11e9_a3dd_e9400dbac465row8_col0\" class=\"data row8 col0\" >2017-06-01 00:00:00</td> \n",
       "        <td id=\"T_9bad1c9a_1faa_11e9_a3dd_e9400dbac465row8_col1\" class=\"data row8 col1\" >AG</td> \n",
       "        <td id=\"T_9bad1c9a_1faa_11e9_a3dd_e9400dbac465row8_col2\" class=\"data row8 col2\" >5.46827</td> \n",
       "        <td id=\"T_9bad1c9a_1faa_11e9_a3dd_e9400dbac465row8_col3\" class=\"data row8 col3\" >Algeria</td> \n",
       "    </tr>    <tr> \n",
       "        <td id=\"T_9bad1c9a_1faa_11e9_a3dd_e9400dbac465row9_col0\" class=\"data row9 col0\" >2018-06-01 00:00:00</td> \n",
       "        <td id=\"T_9bad1c9a_1faa_11e9_a3dd_e9400dbac465row9_col1\" class=\"data row9 col1\" >BA</td> \n",
       "        <td id=\"T_9bad1c9a_1faa_11e9_a3dd_e9400dbac465row9_col2\" class=\"data row9 col2\" >5.3426</td> \n",
       "        <td id=\"T_9bad1c9a_1faa_11e9_a3dd_e9400dbac465row9_col3\" class=\"data row9 col3\" >Bahrain</td> \n",
       "    </tr>    <tr> \n",
       "        <td id=\"T_9bad1c9a_1faa_11e9_a3dd_e9400dbac465row10_col0\" class=\"data row10 col0\" >2017-06-01 00:00:00</td> \n",
       "        <td id=\"T_9bad1c9a_1faa_11e9_a3dd_e9400dbac465row10_col1\" class=\"data row10 col1\" >RB</td> \n",
       "        <td id=\"T_9bad1c9a_1faa_11e9_a3dd_e9400dbac465row10_col2\" class=\"data row10 col2\" >5.06726</td> \n",
       "        <td id=\"T_9bad1c9a_1faa_11e9_a3dd_e9400dbac465row10_col3\" class=\"data row10 col3\" ></td> \n",
       "    </tr>    <tr> \n",
       "        <td id=\"T_9bad1c9a_1faa_11e9_a3dd_e9400dbac465row11_col0\" class=\"data row11 col0\" >2017-06-01 00:00:00</td> \n",
       "        <td id=\"T_9bad1c9a_1faa_11e9_a3dd_e9400dbac465row11_col1\" class=\"data row11 col1\" >BK</td> \n",
       "        <td id=\"T_9bad1c9a_1faa_11e9_a3dd_e9400dbac465row11_col2\" class=\"data row11 col2\" >4.99572</td> \n",
       "        <td id=\"T_9bad1c9a_1faa_11e9_a3dd_e9400dbac465row11_col3\" class=\"data row11 col3\" >Bosnia and Herzegovina</td> \n",
       "    </tr>    <tr> \n",
       "        <td id=\"T_9bad1c9a_1faa_11e9_a3dd_e9400dbac465row12_col0\" class=\"data row12 col0\" >2017-06-01 00:00:00</td> \n",
       "        <td id=\"T_9bad1c9a_1faa_11e9_a3dd_e9400dbac465row12_col1\" class=\"data row12 col1\" >PS</td> \n",
       "        <td id=\"T_9bad1c9a_1faa_11e9_a3dd_e9400dbac465row12_col2\" class=\"data row12 col2\" >4.89056</td> \n",
       "        <td id=\"T_9bad1c9a_1faa_11e9_a3dd_e9400dbac465row12_col3\" class=\"data row12 col3\" >Palau</td> \n",
       "    </tr>    <tr> \n",
       "        <td id=\"T_9bad1c9a_1faa_11e9_a3dd_e9400dbac465row13_col0\" class=\"data row13 col0\" >2017-06-01 00:00:00</td> \n",
       "        <td id=\"T_9bad1c9a_1faa_11e9_a3dd_e9400dbac465row13_col1\" class=\"data row13 col1\" >CG</td> \n",
       "        <td id=\"T_9bad1c9a_1faa_11e9_a3dd_e9400dbac465row13_col2\" class=\"data row13 col2\" >4.85899</td> \n",
       "        <td id=\"T_9bad1c9a_1faa_11e9_a3dd_e9400dbac465row13_col3\" class=\"data row13 col3\" >Congo</td> \n",
       "    </tr>    <tr> \n",
       "        <td id=\"T_9bad1c9a_1faa_11e9_a3dd_e9400dbac465row14_col0\" class=\"data row14 col0\" >2017-06-01 00:00:00</td> \n",
       "        <td id=\"T_9bad1c9a_1faa_11e9_a3dd_e9400dbac465row14_col1\" class=\"data row14 col1\" >NP</td> \n",
       "        <td id=\"T_9bad1c9a_1faa_11e9_a3dd_e9400dbac465row14_col2\" class=\"data row14 col2\" >4.82848</td> \n",
       "        <td id=\"T_9bad1c9a_1faa_11e9_a3dd_e9400dbac465row14_col3\" class=\"data row14 col3\" >Nepal</td> \n",
       "    </tr>    <tr> \n",
       "        <td id=\"T_9bad1c9a_1faa_11e9_a3dd_e9400dbac465row15_col0\" class=\"data row15 col0\" >2018-05-01 00:00:00</td> \n",
       "        <td id=\"T_9bad1c9a_1faa_11e9_a3dd_e9400dbac465row15_col1\" class=\"data row15 col1\" >LT</td> \n",
       "        <td id=\"T_9bad1c9a_1faa_11e9_a3dd_e9400dbac465row15_col2\" class=\"data row15 col2\" >4.81521</td> \n",
       "        <td id=\"T_9bad1c9a_1faa_11e9_a3dd_e9400dbac465row15_col3\" class=\"data row15 col3\" >Lesotho</td> \n",
       "    </tr>    <tr> \n",
       "        <td id=\"T_9bad1c9a_1faa_11e9_a3dd_e9400dbac465row16_col0\" class=\"data row16 col0\" >2017-06-01 00:00:00</td> \n",
       "        <td id=\"T_9bad1c9a_1faa_11e9_a3dd_e9400dbac465row16_col1\" class=\"data row16 col1\" >DJ</td> \n",
       "        <td id=\"T_9bad1c9a_1faa_11e9_a3dd_e9400dbac465row16_col2\" class=\"data row16 col2\" >4.78039</td> \n",
       "        <td id=\"T_9bad1c9a_1faa_11e9_a3dd_e9400dbac465row16_col3\" class=\"data row16 col3\" >Djibouti</td> \n",
       "    </tr>    <tr> \n",
       "        <td id=\"T_9bad1c9a_1faa_11e9_a3dd_e9400dbac465row17_col0\" class=\"data row17 col0\" >2018-05-01 00:00:00</td> \n",
       "        <td id=\"T_9bad1c9a_1faa_11e9_a3dd_e9400dbac465row17_col1\" class=\"data row17 col1\" >SL</td> \n",
       "        <td id=\"T_9bad1c9a_1faa_11e9_a3dd_e9400dbac465row17_col2\" class=\"data row17 col2\" >4.77613</td> \n",
       "        <td id=\"T_9bad1c9a_1faa_11e9_a3dd_e9400dbac465row17_col3\" class=\"data row17 col3\" >Sierra Leone</td> \n",
       "    </tr>    <tr> \n",
       "        <td id=\"T_9bad1c9a_1faa_11e9_a3dd_e9400dbac465row18_col0\" class=\"data row18 col0\" >2018-05-01 00:00:00</td> \n",
       "        <td id=\"T_9bad1c9a_1faa_11e9_a3dd_e9400dbac465row18_col1\" class=\"data row18 col1\" >WE</td> \n",
       "        <td id=\"T_9bad1c9a_1faa_11e9_a3dd_e9400dbac465row18_col2\" class=\"data row18 col2\" >4.70972</td> \n",
       "        <td id=\"T_9bad1c9a_1faa_11e9_a3dd_e9400dbac465row18_col3\" class=\"data row18 col3\" >Palestine</td> \n",
       "    </tr>    <tr> \n",
       "        <td id=\"T_9bad1c9a_1faa_11e9_a3dd_e9400dbac465row19_col0\" class=\"data row19 col0\" >2018-06-01 00:00:00</td> \n",
       "        <td id=\"T_9bad1c9a_1faa_11e9_a3dd_e9400dbac465row19_col1\" class=\"data row19 col1\" >AQ</td> \n",
       "        <td id=\"T_9bad1c9a_1faa_11e9_a3dd_e9400dbac465row19_col2\" class=\"data row19 col2\" >4.6797</td> \n",
       "        <td id=\"T_9bad1c9a_1faa_11e9_a3dd_e9400dbac465row19_col3\" class=\"data row19 col3\" >American Samoa</td> \n",
       "    </tr>    <tr> \n",
       "        <td id=\"T_9bad1c9a_1faa_11e9_a3dd_e9400dbac465row20_col0\" class=\"data row20 col0\" >2018-06-01 00:00:00</td> \n",
       "        <td id=\"T_9bad1c9a_1faa_11e9_a3dd_e9400dbac465row20_col1\" class=\"data row20 col1\" >GA</td> \n",
       "        <td id=\"T_9bad1c9a_1faa_11e9_a3dd_e9400dbac465row20_col2\" class=\"data row20 col2\" >4.67599</td> \n",
       "        <td id=\"T_9bad1c9a_1faa_11e9_a3dd_e9400dbac465row20_col3\" class=\"data row20 col3\" >Gambia</td> \n",
       "    </tr>    <tr> \n",
       "        <td id=\"T_9bad1c9a_1faa_11e9_a3dd_e9400dbac465row21_col0\" class=\"data row21 col0\" >2018-05-01 00:00:00</td> \n",
       "        <td id=\"T_9bad1c9a_1faa_11e9_a3dd_e9400dbac465row21_col1\" class=\"data row21 col1\" >ID</td> \n",
       "        <td id=\"T_9bad1c9a_1faa_11e9_a3dd_e9400dbac465row21_col2\" class=\"data row21 col2\" >4.66292</td> \n",
       "        <td id=\"T_9bad1c9a_1faa_11e9_a3dd_e9400dbac465row21_col3\" class=\"data row21 col3\" >Indonesia</td> \n",
       "    </tr>    <tr> \n",
       "        <td id=\"T_9bad1c9a_1faa_11e9_a3dd_e9400dbac465row22_col0\" class=\"data row22 col0\" >2017-06-01 00:00:00</td> \n",
       "        <td id=\"T_9bad1c9a_1faa_11e9_a3dd_e9400dbac465row22_col1\" class=\"data row22 col1\" >MV</td> \n",
       "        <td id=\"T_9bad1c9a_1faa_11e9_a3dd_e9400dbac465row22_col2\" class=\"data row22 col2\" >4.62243</td> \n",
       "        <td id=\"T_9bad1c9a_1faa_11e9_a3dd_e9400dbac465row22_col3\" class=\"data row22 col3\" >Maldives</td> \n",
       "    </tr>    <tr> \n",
       "        <td id=\"T_9bad1c9a_1faa_11e9_a3dd_e9400dbac465row23_col0\" class=\"data row23 col0\" >2018-05-01 00:00:00</td> \n",
       "        <td id=\"T_9bad1c9a_1faa_11e9_a3dd_e9400dbac465row23_col1\" class=\"data row23 col1\" >NR</td> \n",
       "        <td id=\"T_9bad1c9a_1faa_11e9_a3dd_e9400dbac465row23_col2\" class=\"data row23 col2\" >4.60292</td> \n",
       "        <td id=\"T_9bad1c9a_1faa_11e9_a3dd_e9400dbac465row23_col3\" class=\"data row23 col3\" >Nauru</td> \n",
       "    </tr>    <tr> \n",
       "        <td id=\"T_9bad1c9a_1faa_11e9_a3dd_e9400dbac465row24_col0\" class=\"data row24 col0\" >2017-06-01 00:00:00</td> \n",
       "        <td id=\"T_9bad1c9a_1faa_11e9_a3dd_e9400dbac465row24_col1\" class=\"data row24 col1\" >AJ</td> \n",
       "        <td id=\"T_9bad1c9a_1faa_11e9_a3dd_e9400dbac465row24_col2\" class=\"data row24 col2\" >4.59898</td> \n",
       "        <td id=\"T_9bad1c9a_1faa_11e9_a3dd_e9400dbac465row24_col3\" class=\"data row24 col3\" >Azerbaijan</td> \n",
       "    </tr>    <tr> \n",
       "        <td id=\"T_9bad1c9a_1faa_11e9_a3dd_e9400dbac465row25_col0\" class=\"data row25 col0\" >2017-06-01 00:00:00</td> \n",
       "        <td id=\"T_9bad1c9a_1faa_11e9_a3dd_e9400dbac465row25_col1\" class=\"data row25 col1\" >ES</td> \n",
       "        <td id=\"T_9bad1c9a_1faa_11e9_a3dd_e9400dbac465row25_col2\" class=\"data row25 col2\" >4.59811</td> \n",
       "        <td id=\"T_9bad1c9a_1faa_11e9_a3dd_e9400dbac465row25_col3\" class=\"data row25 col3\" >El Salvador</td> \n",
       "    </tr>    <tr> \n",
       "        <td id=\"T_9bad1c9a_1faa_11e9_a3dd_e9400dbac465row26_col0\" class=\"data row26 col0\" >2017-06-01 00:00:00</td> \n",
       "        <td id=\"T_9bad1c9a_1faa_11e9_a3dd_e9400dbac465row26_col1\" class=\"data row26 col1\" >CB</td> \n",
       "        <td id=\"T_9bad1c9a_1faa_11e9_a3dd_e9400dbac465row26_col2\" class=\"data row26 col2\" >4.58884</td> \n",
       "        <td id=\"T_9bad1c9a_1faa_11e9_a3dd_e9400dbac465row26_col3\" class=\"data row26 col3\" >Cambodia</td> \n",
       "    </tr>    <tr> \n",
       "        <td id=\"T_9bad1c9a_1faa_11e9_a3dd_e9400dbac465row27_col0\" class=\"data row27 col0\" >2018-06-01 00:00:00</td> \n",
       "        <td id=\"T_9bad1c9a_1faa_11e9_a3dd_e9400dbac465row27_col1\" class=\"data row27 col1\" >CQ</td> \n",
       "        <td id=\"T_9bad1c9a_1faa_11e9_a3dd_e9400dbac465row27_col2\" class=\"data row27 col2\" >4.58094</td> \n",
       "        <td id=\"T_9bad1c9a_1faa_11e9_a3dd_e9400dbac465row27_col3\" class=\"data row27 col3\" >Northern Mariana Islands</td> \n",
       "    </tr>    <tr> \n",
       "        <td id=\"T_9bad1c9a_1faa_11e9_a3dd_e9400dbac465row28_col0\" class=\"data row28 col0\" >2018-06-01 00:00:00</td> \n",
       "        <td id=\"T_9bad1c9a_1faa_11e9_a3dd_e9400dbac465row28_col1\" class=\"data row28 col1\" >TK</td> \n",
       "        <td id=\"T_9bad1c9a_1faa_11e9_a3dd_e9400dbac465row28_col2\" class=\"data row28 col2\" >4.57516</td> \n",
       "        <td id=\"T_9bad1c9a_1faa_11e9_a3dd_e9400dbac465row28_col3\" class=\"data row28 col3\" >Turks and Caicos Islands</td> \n",
       "    </tr>    <tr> \n",
       "        <td id=\"T_9bad1c9a_1faa_11e9_a3dd_e9400dbac465row29_col0\" class=\"data row29 col0\" >2018-05-01 00:00:00</td> \n",
       "        <td id=\"T_9bad1c9a_1faa_11e9_a3dd_e9400dbac465row29_col1\" class=\"data row29 col1\" >IC</td> \n",
       "        <td id=\"T_9bad1c9a_1faa_11e9_a3dd_e9400dbac465row29_col2\" class=\"data row29 col2\" >4.52079</td> \n",
       "        <td id=\"T_9bad1c9a_1faa_11e9_a3dd_e9400dbac465row29_col3\" class=\"data row29 col3\" >Iceland</td> \n",
       "    </tr></tbody> \n",
       "</table> "
      ],
      "text/plain": [
       "<pandas.io.formats.style.Styler at 0x7efcd6a08198>"
      ]
     },
     "execution_count": 22,
     "metadata": {},
     "output_type": "execute_result"
    }
   ],
   "source": [
    "DF_Q4.sort_values(by=[\"ToneSTD\"], ascending = False).head(30).style.hide_index()"
   ]
  },
  {
   "cell_type": "code",
   "execution_count": 23,
   "metadata": {
    "ExecuteTime": {
     "end_time": "2019-01-24T00:23:38.105563Z",
     "start_time": "2019-01-23T23:57:33.661184Z"
    }
   },
   "outputs": [
    {
     "data": {
      "text/html": [
       "<style  type=\"text/css\" >\n",
       "</style>  \n",
       "<table id=\"T_4b41f2ee_1f6e_11e9_ba17_0f612d58e0db\" > \n",
       "<thead>    <tr> \n",
       "        <th class=\"col_heading level0 col0\" >Date</th> \n",
       "        <th class=\"col_heading level0 col1\" >Actor</th> \n",
       "        <th class=\"col_heading level0 col2\" >DifferenceHemisphere</th> \n",
       "        <th class=\"col_heading level0 col3\" >North_Avg_Tone</th> \n",
       "        <th class=\"col_heading level0 col4\" >South_Avg_Tone</th> \n",
       "    </tr></thead> \n",
       "<tbody>    <tr> \n",
       "        <td id=\"T_4b41f2ee_1f6e_11e9_ba17_0f612d58e0dbrow0_col0\" class=\"data row0 col0\" >2018-10-16 00:00:00</td> \n",
       "        <td id=\"T_4b41f2ee_1f6e_11e9_ba17_0f612d58e0dbrow0_col1\" class=\"data row0 col1\" >CONMAN</td> \n",
       "        <td id=\"T_4b41f2ee_1f6e_11e9_ba17_0f612d58e0dbrow0_col2\" class=\"data row0 col2\" >25.641</td> \n",
       "        <td id=\"T_4b41f2ee_1f6e_11e9_ba17_0f612d58e0dbrow0_col3\" class=\"data row0 col3\" >-25.641</td> \n",
       "        <td id=\"T_4b41f2ee_1f6e_11e9_ba17_0f612d58e0dbrow0_col4\" class=\"data row0 col4\" >0</td> \n",
       "    </tr>    <tr> \n",
       "        <td id=\"T_4b41f2ee_1f6e_11e9_ba17_0f612d58e0dbrow1_col0\" class=\"data row1 col0\" >2018-12-01 00:00:00</td> \n",
       "        <td id=\"T_4b41f2ee_1f6e_11e9_ba17_0f612d58e0dbrow1_col1\" class=\"data row1 col1\" >UKRAIN</td> \n",
       "        <td id=\"T_4b41f2ee_1f6e_11e9_ba17_0f612d58e0dbrow1_col2\" class=\"data row1 col2\" >25</td> \n",
       "        <td id=\"T_4b41f2ee_1f6e_11e9_ba17_0f612d58e0dbrow1_col3\" class=\"data row1 col3\" >-25</td> \n",
       "        <td id=\"T_4b41f2ee_1f6e_11e9_ba17_0f612d58e0dbrow1_col4\" class=\"data row1 col4\" >0</td> \n",
       "    </tr>    <tr> \n",
       "        <td id=\"T_4b41f2ee_1f6e_11e9_ba17_0f612d58e0dbrow2_col0\" class=\"data row2 col0\" >2018-06-20 00:00:00</td> \n",
       "        <td id=\"T_4b41f2ee_1f6e_11e9_ba17_0f612d58e0dbrow2_col1\" class=\"data row2 col1\" >CORINTH</td> \n",
       "        <td id=\"T_4b41f2ee_1f6e_11e9_ba17_0f612d58e0dbrow2_col2\" class=\"data row2 col2\" >24.1282</td> \n",
       "        <td id=\"T_4b41f2ee_1f6e_11e9_ba17_0f612d58e0dbrow2_col3\" class=\"data row2 col3\" >-24.1282</td> \n",
       "        <td id=\"T_4b41f2ee_1f6e_11e9_ba17_0f612d58e0dbrow2_col4\" class=\"data row2 col4\" >0</td> \n",
       "    </tr>    <tr> \n",
       "        <td id=\"T_4b41f2ee_1f6e_11e9_ba17_0f612d58e0dbrow3_col0\" class=\"data row3 col0\" >2018-10-04 00:00:00</td> \n",
       "        <td id=\"T_4b41f2ee_1f6e_11e9_ba17_0f612d58e0dbrow3_col1\" class=\"data row3 col1\" >TONGAN</td> \n",
       "        <td id=\"T_4b41f2ee_1f6e_11e9_ba17_0f612d58e0dbrow3_col2\" class=\"data row3 col2\" >23.4043</td> \n",
       "        <td id=\"T_4b41f2ee_1f6e_11e9_ba17_0f612d58e0dbrow3_col3\" class=\"data row3 col3\" >0</td> \n",
       "        <td id=\"T_4b41f2ee_1f6e_11e9_ba17_0f612d58e0dbrow3_col4\" class=\"data row3 col4\" >23.4043</td> \n",
       "    </tr>    <tr> \n",
       "        <td id=\"T_4b41f2ee_1f6e_11e9_ba17_0f612d58e0dbrow4_col0\" class=\"data row4 col0\" >2017-04-09 00:00:00</td> \n",
       "        <td id=\"T_4b41f2ee_1f6e_11e9_ba17_0f612d58e0dbrow4_col1\" class=\"data row4 col1\" >CANBERRA</td> \n",
       "        <td id=\"T_4b41f2ee_1f6e_11e9_ba17_0f612d58e0dbrow4_col2\" class=\"data row4 col2\" >23.2285</td> \n",
       "        <td id=\"T_4b41f2ee_1f6e_11e9_ba17_0f612d58e0dbrow4_col3\" class=\"data row4 col3\" >0</td> \n",
       "        <td id=\"T_4b41f2ee_1f6e_11e9_ba17_0f612d58e0dbrow4_col4\" class=\"data row4 col4\" >-23.2285</td> \n",
       "    </tr>    <tr> \n",
       "        <td id=\"T_4b41f2ee_1f6e_11e9_ba17_0f612d58e0dbrow5_col0\" class=\"data row5 col0\" >2018-07-13 00:00:00</td> \n",
       "        <td id=\"T_4b41f2ee_1f6e_11e9_ba17_0f612d58e0dbrow5_col1\" class=\"data row5 col1\" >KOLN</td> \n",
       "        <td id=\"T_4b41f2ee_1f6e_11e9_ba17_0f612d58e0dbrow5_col2\" class=\"data row5 col2\" >23.0216</td> \n",
       "        <td id=\"T_4b41f2ee_1f6e_11e9_ba17_0f612d58e0dbrow5_col3\" class=\"data row5 col3\" >0</td> \n",
       "        <td id=\"T_4b41f2ee_1f6e_11e9_ba17_0f612d58e0dbrow5_col4\" class=\"data row5 col4\" >-23.0216</td> \n",
       "    </tr>    <tr> \n",
       "        <td id=\"T_4b41f2ee_1f6e_11e9_ba17_0f612d58e0dbrow6_col0\" class=\"data row6 col0\" >2018-02-08 00:00:00</td> \n",
       "        <td id=\"T_4b41f2ee_1f6e_11e9_ba17_0f612d58e0dbrow6_col1\" class=\"data row6 col1\" >FEDERATED STATES OF MICRONESIA</td> \n",
       "        <td id=\"T_4b41f2ee_1f6e_11e9_ba17_0f612d58e0dbrow6_col2\" class=\"data row6 col2\" >22.9592</td> \n",
       "        <td id=\"T_4b41f2ee_1f6e_11e9_ba17_0f612d58e0dbrow6_col3\" class=\"data row6 col3\" >-22.9592</td> \n",
       "        <td id=\"T_4b41f2ee_1f6e_11e9_ba17_0f612d58e0dbrow6_col4\" class=\"data row6 col4\" >0</td> \n",
       "    </tr>    <tr> \n",
       "        <td id=\"T_4b41f2ee_1f6e_11e9_ba17_0f612d58e0dbrow7_col0\" class=\"data row7 col0\" >2017-04-25 00:00:00</td> \n",
       "        <td id=\"T_4b41f2ee_1f6e_11e9_ba17_0f612d58e0dbrow7_col1\" class=\"data row7 col1\" >CINCINNATI</td> \n",
       "        <td id=\"T_4b41f2ee_1f6e_11e9_ba17_0f612d58e0dbrow7_col2\" class=\"data row7 col2\" >22.7273</td> \n",
       "        <td id=\"T_4b41f2ee_1f6e_11e9_ba17_0f612d58e0dbrow7_col3\" class=\"data row7 col3\" >-22.7273</td> \n",
       "        <td id=\"T_4b41f2ee_1f6e_11e9_ba17_0f612d58e0dbrow7_col4\" class=\"data row7 col4\" >0</td> \n",
       "    </tr>    <tr> \n",
       "        <td id=\"T_4b41f2ee_1f6e_11e9_ba17_0f612d58e0dbrow8_col0\" class=\"data row8 col0\" >2017-04-15 00:00:00</td> \n",
       "        <td id=\"T_4b41f2ee_1f6e_11e9_ba17_0f612d58e0dbrow8_col1\" class=\"data row8 col1\" >MARYLAND</td> \n",
       "        <td id=\"T_4b41f2ee_1f6e_11e9_ba17_0f612d58e0dbrow8_col2\" class=\"data row8 col2\" >22.7273</td> \n",
       "        <td id=\"T_4b41f2ee_1f6e_11e9_ba17_0f612d58e0dbrow8_col3\" class=\"data row8 col3\" >-22.7273</td> \n",
       "        <td id=\"T_4b41f2ee_1f6e_11e9_ba17_0f612d58e0dbrow8_col4\" class=\"data row8 col4\" >0</td> \n",
       "    </tr>    <tr> \n",
       "        <td id=\"T_4b41f2ee_1f6e_11e9_ba17_0f612d58e0dbrow9_col0\" class=\"data row9 col0\" >2018-03-27 00:00:00</td> \n",
       "        <td id=\"T_4b41f2ee_1f6e_11e9_ba17_0f612d58e0dbrow9_col1\" class=\"data row9 col1\" >ESFAHAN</td> \n",
       "        <td id=\"T_4b41f2ee_1f6e_11e9_ba17_0f612d58e0dbrow9_col2\" class=\"data row9 col2\" >22.6415</td> \n",
       "        <td id=\"T_4b41f2ee_1f6e_11e9_ba17_0f612d58e0dbrow9_col3\" class=\"data row9 col3\" >-22.6415</td> \n",
       "        <td id=\"T_4b41f2ee_1f6e_11e9_ba17_0f612d58e0dbrow9_col4\" class=\"data row9 col4\" >0</td> \n",
       "    </tr></tbody> \n",
       "</table> "
      ],
      "text/plain": [
       "<pandas.io.formats.style.Styler at 0x7f8d7bd8bc18>"
      ]
     },
     "execution_count": 23,
     "metadata": {},
     "output_type": "execute_result"
    }
   ],
   "source": [
    "def Wrong_Function4():\n",
    "    \n",
    "    pipeline4 = [\n",
    "    {\"$project\": {\n",
    "        \"ActorName\": 1, \"SQLDATE\": 1, \"AvgTone\": 1,\n",
    "        \"hemisphereNordAvgTone\": {\"$cond\": [{\"$gt\": [\"$ActorGeo_Lat\", 0]}, \"$AvgTone\", 0]},\n",
    "        \"hemisphereSudAvgTone\": {\"$cond\": [{\"$lt\": [\"$ActorGeo_Lat\", 0]}, \"$AvgTone\", 0]}\n",
    "        }\n",
    "    },\n",
    "    {\"$group\": {\n",
    "        \"_id\": {\"actor\":\"$ActorName\", \"date\": \"$SQLDATE\"},\n",
    "        \"hemisphereNordAvgToneMean\": {\"$avg\": \"$hemisphereNordAvgTone\"},\n",
    "        \"hemisphereSudAvgToneMean\": {\"$avg\": \"$hemisphereSudAvgTone\"}\n",
    "        }\n",
    "    },\n",
    "    {\"$project\": {\n",
    "        \"hemisphereNordAvgToneMean\": 1, \"hemisphereSudAvgToneMean\": 1,\n",
    "        \"deltaEntreHemispheresNordSud\": {\"$abs\": {\"$subtract\": [\"$hemisphereNordAvgToneMean\", \"$hemisphereSudAvgToneMean\"]}} #// Magnitude entre moyennes AvgTone des hemisphères Nord et Sud\n",
    "            }\n",
    "    }\n",
    "    ]\n",
    "    \n",
    "    result_query4 = pd.DataFrame(list(collection.aggregate(pipeline4, allowDiskUse = True)))\n",
    "    df4 = pd.DataFrame()\n",
    "    \n",
    "    df4['Date'] = pd.to_datetime(result_query4.apply(lambda row : row[\"_id\"][\"date\"] , axis = 1), format='%Y%m%d')\n",
    "    df4['Actor'] = result_query4.apply(lambda row : row[\"_id\"][\"actor\"] , axis = 1)\n",
    "    df4['DifferenceHemisphere'] = result_query4[\"deltaEntreHemispheresNordSud\"]\n",
    "    df4['North_Avg_Tone'] = result_query4[\"hemisphereNordAvgToneMean\"]\n",
    "    df4['South_Avg_Tone'] = result_query4[\"hemisphereSudAvgToneMean\"]\n",
    "    \n",
    "    return df4\n",
    "\n",
    "wrong_Q4 = Wrong_Function4()\n",
    "wrong_Q4.sort_values(by=[\"DifferenceHemisphere\"], ascending = False).head(10).style.hide_index()"
   ]
  },
  {
   "cell_type": "code",
   "execution_count": 37,
   "metadata": {
    "ExecuteTime": {
     "end_time": "2019-01-24T01:34:09.022046Z",
     "start_time": "2019-01-24T01:33:58.666383Z"
    }
   },
   "outputs": [],
   "source": [
    "wrong_Q4.to_csv('wrong_Q4.csv')"
   ]
  },
  {
   "cell_type": "markdown",
   "metadata": {},
   "source": [
    "# Bonus"
   ]
  },
  {
   "cell_type": "markdown",
   "metadata": {},
   "source": [
    "It will allow us to better understand the evolution of the relations between the different countries, by studying the tone of the mentions (positive/negative) in the media articles of each country."
   ]
  },
  {
   "cell_type": "code",
   "execution_count": 23,
   "metadata": {
    "ExecuteTime": {
     "end_time": "2019-01-24T07:35:22.899964Z",
     "start_time": "2019-01-24T07:35:22.895161Z"
    }
   },
   "outputs": [],
   "source": [
    "def Function_Bonus_pt1(paysTest1, paysTest2, anneeTest):\n",
    "\n",
    "    pipeline = [\n",
    "    {\"$match\" :\n",
    "       {\"$or\" :\n",
    "           [\n",
    "           {\"$and\": [{\"ActorGeo_CountryCode\": paysTest1},{\"Year\": anneeTest}] },\n",
    "           {\"$and\": [{\"ActorGeo_CountryCode\": paysTest2},{\"Year\": anneeTest}] }\n",
    "           ]\n",
    "       }\n",
    "    },\n",
    "    {\"$group\" : {\n",
    "       \"_id\" : {\"fractionDate\": \"$FractionDate\",\"globalEventId\": \"$GLOBALEVENTID\", \"actor\": \"$ActorGeo_CountryCode\"},\n",
    "       \"avgToneMean\": {\"$avg\": \"$AvgTone\"}\n",
    "       }\n",
    "    }        \n",
    "    ]\n",
    "    \n",
    "    result_query = pd.DataFrame(list(collection.aggregate(pipeline, allowDiskUse = True)))\n",
    "    \n",
    "    DF = pd.DataFrame()\n",
    "    \n",
    "    DF['FracDate'] = result_query.apply(lambda row : row[\"_id\"][\"fractionDate\"] , axis = 1)\n",
    "    DF['EventID'] = result_query.apply(lambda row : row[\"_id\"][\"globalEventId\"] , axis = 1)\n",
    "    DF['AvgTone'] = result_query[\"avgToneMean\"]\n",
    "    DF['Actor'] = result_query.apply(lambda row : row[\"_id\"][\"actor\"] , axis = 1)\n",
    "    \n",
    "    return DF"
   ]
  },
  {
   "cell_type": "code",
   "execution_count": 24,
   "metadata": {
    "ExecuteTime": {
     "end_time": "2019-01-24T07:36:52.905605Z",
     "start_time": "2019-01-24T07:35:22.958799Z"
    }
   },
   "outputs": [],
   "source": [
    "DF_bon11 = Function_Bonus_pt1(\"FR\", \"EN\", 2018)\n",
    "DF_bon12 = Function_Bonus_pt1(\"CH\", \"RS\", 2018)\n",
    "\n",
    "\n",
    "frames = [DF_bon11, DF_bon12]\n",
    "\n",
    "DF_bon111 = pd.concat(frames, axis=0)"
   ]
  },
  {
   "cell_type": "code",
   "execution_count": 25,
   "metadata": {
    "ExecuteTime": {
     "end_time": "2019-01-24T07:36:53.167198Z",
     "start_time": "2019-01-24T07:36:53.025408Z"
    }
   },
   "outputs": [
    {
     "data": {
      "text/plain": [
       "<matplotlib.axes._subplots.AxesSubplot at 0x7efcd69ec630>"
      ]
     },
     "execution_count": 25,
     "metadata": {},
     "output_type": "execute_result"
    },
    {
     "data": {
      "image/png": "[encoded data removed]",
      "text/plain": [
       "<Figure size 432x288 with 1 Axes>"
      ]
     },
     "metadata": {
      "needs_background": "light"
     },
     "output_type": "display_data"
    }
   ],
   "source": [
    "DF_bon111.groupby(\"FracDate\")[\"AvgTone\"].mean().plot()"
   ]
  },
  {
   "cell_type": "code",
   "execution_count": 26,
   "metadata": {
    "ExecuteTime": {
     "end_time": "2019-01-24T07:36:53.533061Z",
     "start_time": "2019-01-24T07:36:53.284289Z"
    }
   },
   "outputs": [
    {
     "name": "stderr",
     "output_type": "stream",
     "text": [
      "/home/arnaud/anaconda3/lib/python3.6/site-packages/pandas/core/series.py:851: FutureWarning: \n",
      "Passing list-likes to .loc or [] with any missing label will raise\n",
      "KeyError in the future, you can use .reindex() as an alternative.\n",
      "\n",
      "See the documentation here:\n",
      "https://pandas.pydata.org/pandas-docs/stable/indexing.html#deprecate-loc-reindex-listlike\n",
      "  return self.loc[key]\n"
     ]
    },
    {
     "data": {
      "image/png": "[encoded data removed]",
      "text/plain": [
       "<Figure size 432x288 with 1 Axes>"
      ]
     },
     "metadata": {
      "needs_background": "light"
     },
     "output_type": "display_data"
    }
   ],
   "source": [
    "df_country = DF_bon111.groupby(\"Actor\")[\"AvgTone\"].mean()\n",
    "countries = [\"FR\",\"EN\",\"US\",\"PL\",\"CH\",\"RS\",\"KN\"]\n",
    "selected_country = df_country[countries]\n",
    "ind = np.arange(len(selected_country))  # the x locations for the groups\n",
    "width = 0.35  # the width of the bars\n",
    "fig, ax = plt.subplots()\n",
    "rects1 = ax.bar(ind - width/2, selected_country - df_country.mean(), width,\n",
    "                color='SkyBlue', label='Country')\n",
    "# Add some text for labels, title and custom x-axis tick labels, etc.\n",
    "ax.set_ylabel('AvgTone')\n",
    "ax.set_title('AvgTone per country')\n",
    "ax.set_xticks(ind)\n",
    "ax.set_xticklabels((\"FR\",\"EN\",\"US\",\"PL\",\"CH\",\"RS\",\"KN\"))\n",
    "ax.legend()\n",
    "def autolabel(rects, xpos='center'):\n",
    "    \"\"\"\n",
    "    Attach a text label above each bar in *rects*, displaying its height.\n",
    "    *xpos* indicates which side to place the text w.r.t. the center of\n",
    "    the bar. It can be one of the following {'center', 'right', 'left'}.\n",
    "    \"\"\"\n",
    "    xpos = xpos.lower()  # normalize the case of the parameter\n",
    "    ha = {'center': 'center', 'right': 'left', 'left': 'right'}\n",
    "    offset = {'center': 0.5, 'right': 0.57, 'left': 0.43}  # x_txt = x + w*off\n",
    "    for rect in rects:\n",
    "        height = rect.get_height()\n",
    "autolabel(rects1, \"left\")\n",
    "plt.show()"
   ]
  },
  {
   "cell_type": "code",
   "execution_count": 27,
   "metadata": {
    "ExecuteTime": {
     "end_time": "2019-01-24T07:36:53.661664Z",
     "start_time": "2019-01-24T07:36:53.657977Z"
    }
   },
   "outputs": [],
   "source": [
    "def Function_Bonus_pt2(moisTest):\n",
    "\n",
    "\n",
    "    result_query = pd.DataFrame(list(collection.find( {\"MonthYear\":moisTest},\n",
    "                                                   {\"AvgTone\":1, \"ActionGeo_Lat\":1, \"ActionGeo_Long\":1})))\n",
    "    \n",
    "    DF = pd.DataFrame()\n",
    "    \n",
    "    DF['AvgTone'] = result_query.apply(lambda row : row[\"AvgTone\"] , axis = 1)\n",
    "    DF['ActionGeo_Lat'] = result_query.apply(lambda row : row[\"ActionGeo_Lat\"] , axis = 1)\n",
    "    DF['ActionGeo_Long'] = result_query.apply(lambda row : row[\"ActionGeo_Long\"] , axis = 1)\n",
    "    \n",
    "    return DF"
   ]
  },
  {
   "cell_type": "code",
   "execution_count": 28,
   "metadata": {
    "ExecuteTime": {
     "end_time": "2019-01-24T07:37:10.342905Z",
     "start_time": "2019-01-24T07:36:53.766793Z"
    }
   },
   "outputs": [
    {
     "ename": "ValueError",
     "evalue": "Wrong number of items passed 0, placement implies 1",
     "output_type": "error",
     "traceback": [
      "\u001b[0;31m---------------------------------------------------------------------------\u001b[0m",
      "\u001b[0;31mKeyError\u001b[0m                                  Traceback (most recent call last)",
      "\u001b[0;32m~/anaconda3/lib/python3.6/site-packages/pandas/core/indexes/base.py\u001b[0m in \u001b[0;36mget_loc\u001b[0;34m(self, key, method, tolerance)\u001b[0m\n\u001b[1;32m   3077\u001b[0m             \u001b[0;32mtry\u001b[0m\u001b[0;34m:\u001b[0m\u001b[0;34m\u001b[0m\u001b[0;34m\u001b[0m\u001b[0m\n\u001b[0;32m-> 3078\u001b[0;31m                 \u001b[0;32mreturn\u001b[0m \u001b[0mself\u001b[0m\u001b[0;34m.\u001b[0m\u001b[0m_engine\u001b[0m\u001b[0;34m.\u001b[0m\u001b[0mget_loc\u001b[0m\u001b[0;34m(\u001b[0m\u001b[0mkey\u001b[0m\u001b[0;34m)\u001b[0m\u001b[0;34m\u001b[0m\u001b[0;34m\u001b[0m\u001b[0m\n\u001b[0m\u001b[1;32m   3079\u001b[0m             \u001b[0;32mexcept\u001b[0m \u001b[0mKeyError\u001b[0m\u001b[0;34m:\u001b[0m\u001b[0;34m\u001b[0m\u001b[0;34m\u001b[0m\u001b[0m\n",
      "\u001b[0;32mpandas/_libs/index.pyx\u001b[0m in \u001b[0;36mpandas._libs.index.IndexEngine.get_loc\u001b[0;34m()\u001b[0m\n",
      "\u001b[0;32mpandas/_libs/index.pyx\u001b[0m in \u001b[0;36mpandas._libs.index.IndexEngine.get_loc\u001b[0;34m()\u001b[0m\n",
      "\u001b[0;32mpandas/_libs/hashtable_class_helper.pxi\u001b[0m in \u001b[0;36mpandas._libs.hashtable.PyObjectHashTable.get_item\u001b[0;34m()\u001b[0m\n",
      "\u001b[0;32mpandas/_libs/hashtable_class_helper.pxi\u001b[0m in \u001b[0;36mpandas._libs.hashtable.PyObjectHashTable.get_item\u001b[0;34m()\u001b[0m\n",
      "\u001b[0;31mKeyError\u001b[0m: 'AvgTone'",
      "\nDuring handling of the above exception, another exception occurred:\n",
      "\u001b[0;31mKeyError\u001b[0m                                  Traceback (most recent call last)",
      "\u001b[0;32m~/anaconda3/lib/python3.6/site-packages/pandas/core/internals.py\u001b[0m in \u001b[0;36mset\u001b[0;34m(self, item, value, check)\u001b[0m\n\u001b[1;32m   4242\u001b[0m         \u001b[0;32mtry\u001b[0m\u001b[0;34m:\u001b[0m\u001b[0;34m\u001b[0m\u001b[0;34m\u001b[0m\u001b[0m\n\u001b[0;32m-> 4243\u001b[0;31m             \u001b[0mloc\u001b[0m \u001b[0;34m=\u001b[0m \u001b[0mself\u001b[0m\u001b[0;34m.\u001b[0m\u001b[0mitems\u001b[0m\u001b[0;34m.\u001b[0m\u001b[0mget_loc\u001b[0m\u001b[0;34m(\u001b[0m\u001b[0mitem\u001b[0m\u001b[0;34m)\u001b[0m\u001b[0;34m\u001b[0m\u001b[0;34m\u001b[0m\u001b[0m\n\u001b[0m\u001b[1;32m   4244\u001b[0m         \u001b[0;32mexcept\u001b[0m \u001b[0mKeyError\u001b[0m\u001b[0;34m:\u001b[0m\u001b[0;34m\u001b[0m\u001b[0;34m\u001b[0m\u001b[0m\n",
      "\u001b[0;32m~/anaconda3/lib/python3.6/site-packages/pandas/core/indexes/base.py\u001b[0m in \u001b[0;36mget_loc\u001b[0;34m(self, key, method, tolerance)\u001b[0m\n\u001b[1;32m   3079\u001b[0m             \u001b[0;32mexcept\u001b[0m \u001b[0mKeyError\u001b[0m\u001b[0;34m:\u001b[0m\u001b[0;34m\u001b[0m\u001b[0;34m\u001b[0m\u001b[0m\n\u001b[0;32m-> 3080\u001b[0;31m                 \u001b[0;32mreturn\u001b[0m \u001b[0mself\u001b[0m\u001b[0;34m.\u001b[0m\u001b[0m_engine\u001b[0m\u001b[0;34m.\u001b[0m\u001b[0mget_loc\u001b[0m\u001b[0;34m(\u001b[0m\u001b[0mself\u001b[0m\u001b[0;34m.\u001b[0m\u001b[0m_maybe_cast_indexer\u001b[0m\u001b[0;34m(\u001b[0m\u001b[0mkey\u001b[0m\u001b[0;34m)\u001b[0m\u001b[0;34m)\u001b[0m\u001b[0;34m\u001b[0m\u001b[0;34m\u001b[0m\u001b[0m\n\u001b[0m\u001b[1;32m   3081\u001b[0m \u001b[0;34m\u001b[0m\u001b[0m\n",
      "\u001b[0;32mpandas/_libs/index.pyx\u001b[0m in \u001b[0;36mpandas._libs.index.IndexEngine.get_loc\u001b[0;34m()\u001b[0m\n",
      "\u001b[0;32mpandas/_libs/index.pyx\u001b[0m in \u001b[0;36mpandas._libs.index.IndexEngine.get_loc\u001b[0;34m()\u001b[0m\n",
      "\u001b[0;32mpandas/_libs/hashtable_class_helper.pxi\u001b[0m in \u001b[0;36mpandas._libs.hashtable.PyObjectHashTable.get_item\u001b[0;34m()\u001b[0m\n",
      "\u001b[0;32mpandas/_libs/hashtable_class_helper.pxi\u001b[0m in \u001b[0;36mpandas._libs.hashtable.PyObjectHashTable.get_item\u001b[0;34m()\u001b[0m\n",
      "\u001b[0;31mKeyError\u001b[0m: 'AvgTone'",
      "\nDuring handling of the above exception, another exception occurred:\n",
      "\u001b[0;31mValueError\u001b[0m                                Traceback (most recent call last)",
      "\u001b[0;32m<ipython-input-28-a845e074c80d>\u001b[0m in \u001b[0;36m<module>\u001b[0;34m\u001b[0m\n\u001b[0;32m----> 1\u001b[0;31m \u001b[0mDF_bon2\u001b[0m \u001b[0;34m=\u001b[0m \u001b[0mFunction_Bonus_pt2\u001b[0m\u001b[0;34m(\u001b[0m\u001b[0;36m201801\u001b[0m\u001b[0;34m)\u001b[0m\u001b[0;34m\u001b[0m\u001b[0;34m\u001b[0m\u001b[0m\n\u001b[0m\u001b[1;32m      2\u001b[0m \u001b[0mDF_bon2\u001b[0m\u001b[0;34m\u001b[0m\u001b[0;34m\u001b[0m\u001b[0m\n",
      "\u001b[0;32m<ipython-input-27-124db656cfc7>\u001b[0m in \u001b[0;36mFunction_Bonus_pt2\u001b[0;34m(moisTest)\u001b[0m\n\u001b[1;32m      7\u001b[0m     \u001b[0mDF\u001b[0m \u001b[0;34m=\u001b[0m \u001b[0mpd\u001b[0m\u001b[0;34m.\u001b[0m\u001b[0mDataFrame\u001b[0m\u001b[0;34m(\u001b[0m\u001b[0;34m)\u001b[0m\u001b[0;34m\u001b[0m\u001b[0;34m\u001b[0m\u001b[0m\n\u001b[1;32m      8\u001b[0m \u001b[0;34m\u001b[0m\u001b[0m\n\u001b[0;32m----> 9\u001b[0;31m     \u001b[0mDF\u001b[0m\u001b[0;34m[\u001b[0m\u001b[0;34m'AvgTone'\u001b[0m\u001b[0;34m]\u001b[0m \u001b[0;34m=\u001b[0m \u001b[0mresult_query\u001b[0m\u001b[0;34m.\u001b[0m\u001b[0mapply\u001b[0m\u001b[0;34m(\u001b[0m\u001b[0;32mlambda\u001b[0m \u001b[0mrow\u001b[0m \u001b[0;34m:\u001b[0m \u001b[0mrow\u001b[0m\u001b[0;34m[\u001b[0m\u001b[0;34m\"AvgTone\"\u001b[0m\u001b[0;34m]\u001b[0m \u001b[0;34m,\u001b[0m \u001b[0maxis\u001b[0m \u001b[0;34m=\u001b[0m \u001b[0;36m1\u001b[0m\u001b[0;34m)\u001b[0m\u001b[0;34m\u001b[0m\u001b[0;34m\u001b[0m\u001b[0m\n\u001b[0m\u001b[1;32m     10\u001b[0m     \u001b[0mDF\u001b[0m\u001b[0;34m[\u001b[0m\u001b[0;34m'ActionGeo_Lat'\u001b[0m\u001b[0;34m]\u001b[0m \u001b[0;34m=\u001b[0m \u001b[0mresult_query\u001b[0m\u001b[0;34m.\u001b[0m\u001b[0mapply\u001b[0m\u001b[0;34m(\u001b[0m\u001b[0;32mlambda\u001b[0m \u001b[0mrow\u001b[0m \u001b[0;34m:\u001b[0m \u001b[0mrow\u001b[0m\u001b[0;34m[\u001b[0m\u001b[0;34m\"ActionGeo_Lat\"\u001b[0m\u001b[0;34m]\u001b[0m \u001b[0;34m,\u001b[0m \u001b[0maxis\u001b[0m \u001b[0;34m=\u001b[0m \u001b[0;36m1\u001b[0m\u001b[0;34m)\u001b[0m\u001b[0;34m\u001b[0m\u001b[0;34m\u001b[0m\u001b[0m\n\u001b[1;32m     11\u001b[0m     \u001b[0mDF\u001b[0m\u001b[0;34m[\u001b[0m\u001b[0;34m'ActionGeo_Long'\u001b[0m\u001b[0;34m]\u001b[0m \u001b[0;34m=\u001b[0m \u001b[0mresult_query\u001b[0m\u001b[0;34m.\u001b[0m\u001b[0mapply\u001b[0m\u001b[0;34m(\u001b[0m\u001b[0;32mlambda\u001b[0m \u001b[0mrow\u001b[0m \u001b[0;34m:\u001b[0m \u001b[0mrow\u001b[0m\u001b[0;34m[\u001b[0m\u001b[0;34m\"ActionGeo_Long\"\u001b[0m\u001b[0;34m]\u001b[0m \u001b[0;34m,\u001b[0m \u001b[0maxis\u001b[0m \u001b[0;34m=\u001b[0m \u001b[0;36m1\u001b[0m\u001b[0;34m)\u001b[0m\u001b[0;34m\u001b[0m\u001b[0;34m\u001b[0m\u001b[0m\n",
      "\u001b[0;32m~/anaconda3/lib/python3.6/site-packages/pandas/core/frame.py\u001b[0m in \u001b[0;36m__setitem__\u001b[0;34m(self, key, value)\u001b[0m\n\u001b[1;32m   3117\u001b[0m         \u001b[0;32melse\u001b[0m\u001b[0;34m:\u001b[0m\u001b[0;34m\u001b[0m\u001b[0;34m\u001b[0m\u001b[0m\n\u001b[1;32m   3118\u001b[0m             \u001b[0;31m# set column\u001b[0m\u001b[0;34m\u001b[0m\u001b[0;34m\u001b[0m\u001b[0;34m\u001b[0m\u001b[0m\n\u001b[0;32m-> 3119\u001b[0;31m             \u001b[0mself\u001b[0m\u001b[0;34m.\u001b[0m\u001b[0m_set_item\u001b[0m\u001b[0;34m(\u001b[0m\u001b[0mkey\u001b[0m\u001b[0;34m,\u001b[0m \u001b[0mvalue\u001b[0m\u001b[0;34m)\u001b[0m\u001b[0;34m\u001b[0m\u001b[0;34m\u001b[0m\u001b[0m\n\u001b[0m\u001b[1;32m   3120\u001b[0m \u001b[0;34m\u001b[0m\u001b[0m\n\u001b[1;32m   3121\u001b[0m     \u001b[0;32mdef\u001b[0m \u001b[0m_setitem_slice\u001b[0m\u001b[0;34m(\u001b[0m\u001b[0mself\u001b[0m\u001b[0;34m,\u001b[0m \u001b[0mkey\u001b[0m\u001b[0;34m,\u001b[0m \u001b[0mvalue\u001b[0m\u001b[0;34m)\u001b[0m\u001b[0;34m:\u001b[0m\u001b[0;34m\u001b[0m\u001b[0;34m\u001b[0m\u001b[0m\n",
      "\u001b[0;32m~/anaconda3/lib/python3.6/site-packages/pandas/core/frame.py\u001b[0m in \u001b[0;36m_set_item\u001b[0;34m(self, key, value)\u001b[0m\n\u001b[1;32m   3193\u001b[0m         \u001b[0mself\u001b[0m\u001b[0;34m.\u001b[0m\u001b[0m_ensure_valid_index\u001b[0m\u001b[0;34m(\u001b[0m\u001b[0mvalue\u001b[0m\u001b[0;34m)\u001b[0m\u001b[0;34m\u001b[0m\u001b[0;34m\u001b[0m\u001b[0m\n\u001b[1;32m   3194\u001b[0m         \u001b[0mvalue\u001b[0m \u001b[0;34m=\u001b[0m \u001b[0mself\u001b[0m\u001b[0;34m.\u001b[0m\u001b[0m_sanitize_column\u001b[0m\u001b[0;34m(\u001b[0m\u001b[0mkey\u001b[0m\u001b[0;34m,\u001b[0m \u001b[0mvalue\u001b[0m\u001b[0;34m)\u001b[0m\u001b[0;34m\u001b[0m\u001b[0;34m\u001b[0m\u001b[0m\n\u001b[0;32m-> 3195\u001b[0;31m         \u001b[0mNDFrame\u001b[0m\u001b[0;34m.\u001b[0m\u001b[0m_set_item\u001b[0m\u001b[0;34m(\u001b[0m\u001b[0mself\u001b[0m\u001b[0;34m,\u001b[0m \u001b[0mkey\u001b[0m\u001b[0;34m,\u001b[0m \u001b[0mvalue\u001b[0m\u001b[0;34m)\u001b[0m\u001b[0;34m\u001b[0m\u001b[0;34m\u001b[0m\u001b[0m\n\u001b[0m\u001b[1;32m   3196\u001b[0m \u001b[0;34m\u001b[0m\u001b[0m\n\u001b[1;32m   3197\u001b[0m         \u001b[0;31m# check if we are modifying a copy\u001b[0m\u001b[0;34m\u001b[0m\u001b[0;34m\u001b[0m\u001b[0;34m\u001b[0m\u001b[0m\n",
      "\u001b[0;32m~/anaconda3/lib/python3.6/site-packages/pandas/core/generic.py\u001b[0m in \u001b[0;36m_set_item\u001b[0;34m(self, key, value)\u001b[0m\n\u001b[1;32m   2598\u001b[0m \u001b[0;34m\u001b[0m\u001b[0m\n\u001b[1;32m   2599\u001b[0m     \u001b[0;32mdef\u001b[0m \u001b[0m_set_item\u001b[0m\u001b[0;34m(\u001b[0m\u001b[0mself\u001b[0m\u001b[0;34m,\u001b[0m \u001b[0mkey\u001b[0m\u001b[0;34m,\u001b[0m \u001b[0mvalue\u001b[0m\u001b[0;34m)\u001b[0m\u001b[0;34m:\u001b[0m\u001b[0;34m\u001b[0m\u001b[0;34m\u001b[0m\u001b[0m\n\u001b[0;32m-> 2600\u001b[0;31m         \u001b[0mself\u001b[0m\u001b[0;34m.\u001b[0m\u001b[0m_data\u001b[0m\u001b[0;34m.\u001b[0m\u001b[0mset\u001b[0m\u001b[0;34m(\u001b[0m\u001b[0mkey\u001b[0m\u001b[0;34m,\u001b[0m \u001b[0mvalue\u001b[0m\u001b[0;34m)\u001b[0m\u001b[0;34m\u001b[0m\u001b[0;34m\u001b[0m\u001b[0m\n\u001b[0m\u001b[1;32m   2601\u001b[0m         \u001b[0mself\u001b[0m\u001b[0;34m.\u001b[0m\u001b[0m_clear_item_cache\u001b[0m\u001b[0;34m(\u001b[0m\u001b[0;34m)\u001b[0m\u001b[0;34m\u001b[0m\u001b[0;34m\u001b[0m\u001b[0m\n\u001b[1;32m   2602\u001b[0m \u001b[0;34m\u001b[0m\u001b[0m\n",
      "\u001b[0;32m~/anaconda3/lib/python3.6/site-packages/pandas/core/internals.py\u001b[0m in \u001b[0;36mset\u001b[0;34m(self, item, value, check)\u001b[0m\n\u001b[1;32m   4244\u001b[0m         \u001b[0;32mexcept\u001b[0m \u001b[0mKeyError\u001b[0m\u001b[0;34m:\u001b[0m\u001b[0;34m\u001b[0m\u001b[0;34m\u001b[0m\u001b[0m\n\u001b[1;32m   4245\u001b[0m             \u001b[0;31m# This item wasn't present, just insert at end\u001b[0m\u001b[0;34m\u001b[0m\u001b[0;34m\u001b[0m\u001b[0;34m\u001b[0m\u001b[0m\n\u001b[0;32m-> 4246\u001b[0;31m             \u001b[0mself\u001b[0m\u001b[0;34m.\u001b[0m\u001b[0minsert\u001b[0m\u001b[0;34m(\u001b[0m\u001b[0mlen\u001b[0m\u001b[0;34m(\u001b[0m\u001b[0mself\u001b[0m\u001b[0;34m.\u001b[0m\u001b[0mitems\u001b[0m\u001b[0;34m)\u001b[0m\u001b[0;34m,\u001b[0m \u001b[0mitem\u001b[0m\u001b[0;34m,\u001b[0m \u001b[0mvalue\u001b[0m\u001b[0;34m)\u001b[0m\u001b[0;34m\u001b[0m\u001b[0;34m\u001b[0m\u001b[0m\n\u001b[0m\u001b[1;32m   4247\u001b[0m             \u001b[0;32mreturn\u001b[0m\u001b[0;34m\u001b[0m\u001b[0;34m\u001b[0m\u001b[0m\n\u001b[1;32m   4248\u001b[0m \u001b[0;34m\u001b[0m\u001b[0m\n",
      "\u001b[0;32m~/anaconda3/lib/python3.6/site-packages/pandas/core/internals.py\u001b[0m in \u001b[0;36minsert\u001b[0;34m(self, loc, item, value, allow_duplicates)\u001b[0m\n\u001b[1;32m   4345\u001b[0m \u001b[0;34m\u001b[0m\u001b[0m\n\u001b[1;32m   4346\u001b[0m         block = make_block(values=value, ndim=self.ndim,\n\u001b[0;32m-> 4347\u001b[0;31m                            placement=slice(loc, loc + 1))\n\u001b[0m\u001b[1;32m   4348\u001b[0m \u001b[0;34m\u001b[0m\u001b[0m\n\u001b[1;32m   4349\u001b[0m         \u001b[0;32mfor\u001b[0m \u001b[0mblkno\u001b[0m\u001b[0;34m,\u001b[0m \u001b[0mcount\u001b[0m \u001b[0;32min\u001b[0m \u001b[0m_fast_count_smallints\u001b[0m\u001b[0;34m(\u001b[0m\u001b[0mself\u001b[0m\u001b[0;34m.\u001b[0m\u001b[0m_blknos\u001b[0m\u001b[0;34m[\u001b[0m\u001b[0mloc\u001b[0m\u001b[0;34m:\u001b[0m\u001b[0;34m]\u001b[0m\u001b[0;34m)\u001b[0m\u001b[0;34m:\u001b[0m\u001b[0;34m\u001b[0m\u001b[0;34m\u001b[0m\u001b[0m\n",
      "\u001b[0;32m~/anaconda3/lib/python3.6/site-packages/pandas/core/internals.py\u001b[0m in \u001b[0;36mmake_block\u001b[0;34m(values, placement, klass, ndim, dtype, fastpath)\u001b[0m\n\u001b[1;32m   3203\u001b[0m                      placement=placement, dtype=dtype)\n\u001b[1;32m   3204\u001b[0m \u001b[0;34m\u001b[0m\u001b[0m\n\u001b[0;32m-> 3205\u001b[0;31m     \u001b[0;32mreturn\u001b[0m \u001b[0mklass\u001b[0m\u001b[0;34m(\u001b[0m\u001b[0mvalues\u001b[0m\u001b[0;34m,\u001b[0m \u001b[0mndim\u001b[0m\u001b[0;34m=\u001b[0m\u001b[0mndim\u001b[0m\u001b[0;34m,\u001b[0m \u001b[0mplacement\u001b[0m\u001b[0;34m=\u001b[0m\u001b[0mplacement\u001b[0m\u001b[0;34m)\u001b[0m\u001b[0;34m\u001b[0m\u001b[0;34m\u001b[0m\u001b[0m\n\u001b[0m\u001b[1;32m   3206\u001b[0m \u001b[0;34m\u001b[0m\u001b[0m\n\u001b[1;32m   3207\u001b[0m \u001b[0;31m# TODO: flexible with index=None and/or items=None\u001b[0m\u001b[0;34m\u001b[0m\u001b[0;34m\u001b[0m\u001b[0;34m\u001b[0m\u001b[0m\n",
      "\u001b[0;32m~/anaconda3/lib/python3.6/site-packages/pandas/core/internals.py\u001b[0m in \u001b[0;36m__init__\u001b[0;34m(self, values, placement, ndim)\u001b[0m\n\u001b[1;32m    123\u001b[0m             raise ValueError(\n\u001b[1;32m    124\u001b[0m                 \u001b[0;34m'Wrong number of items passed {val}, placement implies '\u001b[0m\u001b[0;34m\u001b[0m\u001b[0;34m\u001b[0m\u001b[0m\n\u001b[0;32m--> 125\u001b[0;31m                 '{mgr}'.format(val=len(self.values), mgr=len(self.mgr_locs)))\n\u001b[0m\u001b[1;32m    126\u001b[0m \u001b[0;34m\u001b[0m\u001b[0m\n\u001b[1;32m    127\u001b[0m     \u001b[0;32mdef\u001b[0m \u001b[0m_check_ndim\u001b[0m\u001b[0;34m(\u001b[0m\u001b[0mself\u001b[0m\u001b[0;34m,\u001b[0m \u001b[0mvalues\u001b[0m\u001b[0;34m,\u001b[0m \u001b[0mndim\u001b[0m\u001b[0;34m)\u001b[0m\u001b[0;34m:\u001b[0m\u001b[0;34m\u001b[0m\u001b[0;34m\u001b[0m\u001b[0m\n",
      "\u001b[0;31mValueError\u001b[0m: Wrong number of items passed 0, placement implies 1"
     ]
    }
   ],
   "source": [
    "DF_bon2 = Function_Bonus_pt2(201801)\n",
    "DF_bon2"
   ]
  },
  {
   "cell_type": "code",
   "execution_count": null,
   "metadata": {
    "ExecuteTime": {
     "end_time": "2019-01-24T07:37:10.349081Z",
     "start_time": "2019-01-24T07:32:44.991Z"
    }
   },
   "outputs": [],
   "source": [
    "# base map \n",
    "np_bon2 = np.array(DF_bon2)\n",
    "\n",
    "maxTone = np.max(DF_bon2[\"AvgTone\"])\n",
    "minTone = np.min(DF_bon2[\"AvgTone\"])\n",
    "\n",
    "def avgToColor(avgTone):\n",
    "    red = 0.5 - avgTone/(-minTone)\n",
    "    red = max(min(red,1),0)\n",
    "    green = 0.5 + avgTone/(maxTone)\n",
    "    green = max(min(green,1),0)\n",
    "    return red, green\n",
    "\n",
    "plt.figure(figsize=(20,20))\n",
    "m = Basemap(projection='mill',lon_0=0,resolution='c')\n",
    "m.drawcoastlines()\n",
    "m.fillcontinents(color='gray',lake_color='white')\n",
    "# draw parallels and meridians.\n",
    "m.drawparallels(np.arange(-90.,120.,30.))\n",
    "m.drawmeridians(np.arange(0.,420.,60.))\n",
    "# draw a black dot at the center.\n",
    "\n",
    "for avgTone, lat, lon in np_bon2[:10000]:\n",
    "    xpt, ypt = m(lon, lat)\n",
    "    red, green = avgToColor(avgTone)\n",
    "    print(red, green)\n",
    "    m.plot([xpt],[ypt], color=((red,green,0,1)))\n",
    "    \n",
    "# draw the title.\n",
    "plt.title('Azimuthal Equidistant Projection')\n",
    "plt.show()"
   ]
  },
  {
   "cell_type": "code",
   "execution_count": null,
   "metadata": {
    "ExecuteTime": {
     "end_time": "2019-01-24T07:37:10.354395Z",
     "start_time": "2019-01-24T07:32:45.251Z"
    }
   },
   "outputs": [],
   "source": [
    "end = time. time()\n",
    "print(end - start)"
   ]
  },
  {
   "cell_type": "code",
   "execution_count": null,
   "metadata": {},
   "outputs": [],
   "source": []
  }
 ],
 "metadata": {
  "kernelspec": {
   "display_name": "Python 3",
   "language": "python",
   "name": "python3"
  },
  "language_info": {
   "codemirror_mode": {
    "name": "ipython",
    "version": 3
   },
   "file_extension": ".py",
   "mimetype": "text/x-python",
   "name": "python",
   "nbconvert_exporter": "python",
   "pygments_lexer": "ipython3",
   "version": "3.6.8"
  },
  "latex_envs": {
   "LaTeX_envs_menu_present": true,
   "autoclose": false,
   "autocomplete": true,
   "bibliofile": "biblio.bib",
   "cite_by": "apalike",
   "current_citInitial": 1,
   "eqLabelWithNumbers": true,
   "eqNumInitial": 1,
   "hotkeys": {
    "equation": "Ctrl-E",
    "itemize": "Ctrl-I"
   },
   "labels_anchors": false,
   "latex_user_defs": false,
   "report_style_numbering": false,
   "user_envs_cfg": false
  },
  "toc": {
   "base_numbering": 1,
   "nav_menu": {},
   "number_sections": true,
   "sideBar": true,
   "skip_h1_title": false,
   "title_cell": "Table of Contents",
   "title_sidebar": "Contents",
   "toc_cell": false,
   "toc_position": {},
   "toc_section_display": true,
   "toc_window_display": false
  },
  "varInspector": {
   "cols": {
    "lenName": 16,
    "lenType": 16,
    "lenVar": 40
   },
   "kernels_config": {
    "python": {
     "delete_cmd_postfix": "",
     "delete_cmd_prefix": "del ",
     "library": "var_list.py",
     "varRefreshCmd": "print(var_dic_list())"
    },
    "r": {
     "delete_cmd_postfix": ") ",
     "delete_cmd_prefix": "rm(",
     "library": "var_list.r",
     "varRefreshCmd": "cat(var_dic_list()) "
    }
   },
   "types_to_exclude": [
    "module",
    "function",
    "builtin_function_or_method",
    "instance",
    "_Feature"
   ],
   "window_display": false
  }
 },
 "nbformat": 4,
 "nbformat_minor": 2
}
